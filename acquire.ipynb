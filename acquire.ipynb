{
 "cells": [
  {
   "cell_type": "markdown",
   "id": "1d31ae13",
   "metadata": {},
   "source": [
    "<div class=\"alert alert-info\">Example text highlighted in blue (<b>info</b>) background.</div>"
   ]
  },
  {
   "cell_type": "markdown",
   "id": "905bb3bf",
   "metadata": {},
   "source": [
    "<div class=\"alert alert-success\">Example text highlighted in green (<b>success</b>) background.</div>"
   ]
  },
  {
   "cell_type": "markdown",
   "id": "f98f7239",
   "metadata": {},
   "source": [
    "<div class=\"alert alert-warning\">Example text highlighted in yellow (<b>warning</b>) background.</div>"
   ]
  },
  {
   "cell_type": "markdown",
   "id": "2bbf597e",
   "metadata": {},
   "source": [
    "<div class=\"alert alert-danger\">Example text highlighted in red (<b>danger</b>) background.</div>"
   ]
  },
  {
   "cell_type": "markdown",
   "id": "3c122efc",
   "metadata": {},
   "source": [
    "# ----------------**TITANIC DATA** ```FROM SQL```----------------"
   ]
  },
  {
   "cell_type": "code",
   "execution_count": 1,
   "id": "b5eb6d16",
   "metadata": {},
   "outputs": [],
   "source": [
    "def new_titanic_data():\n",
    "    '''\n",
    "    This function reads the titanic data from the Codeup database into a DataFrame.\n",
    "    '''\n",
    "    \n",
    "    import pandas as pd\n",
    "    from env import get_db_url\n",
    "    \n",
    "    # Create SQL query.\n",
    "    sql_query = 'SELECT * FROM passengers'\n",
    "    \n",
    "    # Read in DataFrame from Codeup database.\n",
    "    df = pd.read_sql(sql_query, get_db_url('titanic_db'))\n",
    "    \n",
    "    return df"
   ]
  },
  {
   "cell_type": "code",
   "execution_count": 2,
   "id": "cf38132a",
   "metadata": {},
   "outputs": [],
   "source": [
    "def get_titanic_data():\n",
    "    '''\n",
    "    This function reads in titanic data from Codeup database, writes data to\n",
    "    a csv file if a local file does not exist, and returns a DataFrame.\n",
    "    '''\n",
    "    \n",
    "    import os\n",
    "    \n",
    "    if os.path.isfile('titanic_df.csv'):\n",
    "        \n",
    "        # If csv file exists, read in data from csv file.\n",
    "        df = pd.read_csv('titanic_df.csv', index_col=0)\n",
    "        \n",
    "    else:\n",
    "        \n",
    "        # Read fresh data from db into a DataFrame.\n",
    "        df = new_titanic_data()\n",
    "        \n",
    "        # Write DataFrame to a csv file.\n",
    "        df.to_csv('titanic_df.csv')\n",
    "        \n",
    "    return df"
   ]
  },
  {
   "cell_type": "markdown",
   "id": "ba45b926",
   "metadata": {},
   "source": [
    "# ----------------**IRIS DATA** ```FROM SQL```----------------"
   ]
  },
  {
   "cell_type": "code",
   "execution_count": 3,
   "id": "a734da60",
   "metadata": {},
   "outputs": [],
   "source": [
    "def new_iris_data():\n",
    "    '''\n",
    "    This function reads the iris data from the Codeup database into a DataFrame.\n",
    "    '''\n",
    "    \n",
    "    import pandas as pd\n",
    "    from env import get_db_url\n",
    "    \n",
    "    # Create SQL query.\n",
    "    sql_query = 'SELECT species_id, species_name, sepal_length, sepal_width, petal_length, petal_width FROM measurements JOIN species USING(species_id)'\n",
    "    \n",
    "    # Read in DataFrame from Codeup db.\n",
    "    df = pd.read_sql(sql_query, get_db_url('iris_db'))\n",
    "    \n",
    "    return df"
   ]
  },
  {
   "cell_type": "code",
   "execution_count": null,
   "id": "eb613c38",
   "metadata": {},
   "outputs": [],
   "source": [
    "def get_iris_data():\n",
    "    '''\n",
    "    This function reads in iris data from Codeup database, writes data to\n",
    "    a csv file if a local file does not exist, and returns a DataFrame.\n",
    "    '''\n",
    "    \n",
    "    import os\n",
    "    \n",
    "    if os.path.isfile('iris_df.csv'):\n",
    "        \n",
    "        # If csv file exists read in data from csv file.\n",
    "        df = pd.read_csv('iris_df.csv', index_col=0)\n",
    "        \n",
    "    else:\n",
    "        \n",
    "        # Read fresh data from db into a DataFrame\n",
    "        df = new_iris_data()\n",
    "        \n",
    "        # Cache data\n",
    "        df.to_csv('iris_df.csv')\n",
    "        \n",
    "    return df"
   ]
  },
  {
   "cell_type": "markdown",
   "id": "e72ddbdf",
   "metadata": {},
   "source": [
    "# ----------------**IRIS DATA** ```from seaborn```----------------"
   ]
  },
  {
   "cell_type": "code",
   "execution_count": 4,
   "id": "be3460ac",
   "metadata": {},
   "outputs": [],
   "source": [
    "def new_iris_sns_df():\n",
    "    '''\n",
    "    This function reads the iris data from the seaborn database into a DataFrame.\n",
    "    '''\n",
    "    import seaborn as sns\n",
    "    \n",
    "    # Read in DataFrame from pydata db.\n",
    "    df = sns.load_dataset('iris')\n",
    "    \n",
    "    return df"
   ]
  },
  {
   "cell_type": "code",
   "execution_count": null,
   "id": "2e82d647",
   "metadata": {},
   "outputs": [],
   "source": [
    "def get_iris_sns_df():\n",
    "    '''\n",
    "    This function reads in iris data from seaborn database, writes data to\n",
    "    a csv file if a local file does not exist, and returns a DataFrame.\n",
    "    '''\n",
    "    \n",
    "    import os\n",
    "    \n",
    "    if os.path.isfile('iris_sns_df.csv'):\n",
    "        \n",
    "        # If csv file exists read in data from csv file.\n",
    "        df = pd.read_csv('iris_sns_df.csv', index_col=0)\n",
    "        \n",
    "    else:\n",
    "        \n",
    "        # Read fresh data from db into a DataFrame\n",
    "        df = new_iris_sns_df()\n",
    "        \n",
    "        # Cache data\n",
    "        df.to_csv('iris_sns_df.csv')\n",
    "        \n",
    "    return df"
   ]
  }
 ],
 "metadata": {
  "kernelspec": {
   "display_name": "Python 3 (ipykernel)",
   "language": "python",
   "name": "python3"
  },
  "language_info": {
   "codemirror_mode": {
    "name": "ipython",
    "version": 3
   },
   "file_extension": ".py",
   "mimetype": "text/x-python",
   "name": "python",
   "nbconvert_exporter": "python",
   "pygments_lexer": "ipython3",
   "version": "3.9.12"
  }
 },
 "nbformat": 4,
 "nbformat_minor": 5
}
