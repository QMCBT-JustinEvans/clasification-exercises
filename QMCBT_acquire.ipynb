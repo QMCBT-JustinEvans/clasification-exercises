{
 "cells": [
  {
   "cell_type": "code",
   "execution_count": null,
   "id": "e413a258",
   "metadata": {},
   "outputs": [],
   "source": [
    "import pandas as pd\n",
    "import numpy as np\n",
    "import seaborn as sns\n",
    "import os\n",
    "from pydataset import data\n",
    "from env import get_db_url"
   ]
  },
  {
   "cell_type": "markdown",
   "id": "5ffdfe39",
   "metadata": {},
   "source": [
    "# ----------------**TITANIC DATA** ```FROM SQL```----------------"
   ]
  },
  {
   "cell_type": "code",
   "execution_count": 1,
   "id": "64f68aa6",
   "metadata": {},
   "outputs": [],
   "source": [
    "def new_titanic_df():\n",
    "    '''\n",
    "    This function reads the titanic data from the Codeup database into a DataFrame.\n",
    "    '''\n",
    "   \n",
    "    # Create SQL query.\n",
    "    sql_query = 'SELECT * FROM passengers'\n",
    "    \n",
    "    # Read in DataFrame from Codeup database.\n",
    "    df = pd.read_sql(sql_query, get_db_url('titanic_db'))\n",
    "    \n",
    "    return df"
   ]
  },
  {
   "cell_type": "code",
   "execution_count": 2,
   "id": "32536a47",
   "metadata": {},
   "outputs": [],
   "source": [
    "def get_titanic_df():\n",
    "    '''\n",
    "    This function reads in titanic data from Codeup database, writes data to\n",
    "    a csv file if a local file does not exist, and returns a DataFrame.\n",
    "    '''\n",
    "    \n",
    "    if os.path.isfile('titanic_df.csv'):\n",
    "        \n",
    "        # If csv file exists, read in data from csv file.\n",
    "        df = pd.read_csv('titanic_df.csv', index_col=0)\n",
    "        \n",
    "    else:\n",
    "        \n",
    "        # Read fresh data from db into a DataFrame.\n",
    "        df = new_titanic_df()\n",
    "        \n",
    "        # Write DataFrame to a csv file.\n",
    "        df.to_csv('titanic_df.csv')\n",
    "        \n",
    "    return df"
   ]
  },
  {
   "cell_type": "markdown",
   "id": "fc730bcd",
   "metadata": {},
   "source": [
    "# ----------------**IRIS DATA** ```FROM SQL```----------------"
   ]
  },
  {
   "cell_type": "code",
   "execution_count": 3,
   "id": "d58d7810",
   "metadata": {},
   "outputs": [],
   "source": [
    "def new_iris_sql_df():\n",
    "    '''\n",
    "    This function reads the iris data from the Codeup database into a DataFrame.\n",
    "    '''\n",
    "    \n",
    "    # Create SQL query.\n",
    "    sql_query = 'SELECT species_id, species_name, sepal_length, sepal_width, petal_length, petal_width FROM measurements JOIN species USING(species_id)'\n",
    "    \n",
    "    # Read in DataFrame from Codeup db.\n",
    "    df = pd.read_sql(sql_query, get_db_url('iris_db'))\n",
    "    \n",
    "    return df"
   ]
  },
  {
   "cell_type": "code",
   "execution_count": null,
   "id": "14f1853c",
   "metadata": {},
   "outputs": [],
   "source": [
    "def get_iris_sql_df():\n",
    "    '''\n",
    "    This function reads in iris data from Codeup database, writes data to\n",
    "    a csv file if a local file does not exist, and returns a DataFrame.\n",
    "    '''\n",
    "\n",
    "    if os.path.isfile('iris_sql_df.csv'):\n",
    "        \n",
    "        # If csv file exists read in data from csv file.\n",
    "        df = pd.read_csv('iris_sql_df.csv', index_col=0)\n",
    "        \n",
    "    else:\n",
    "        \n",
    "        # Read fresh data from db into a DataFrame\n",
    "        df = new_iris_sql_df()\n",
    "        \n",
    "        # Cache data\n",
    "        df.to_csv('iris_sql_df.csv')\n",
    "        \n",
    "    return df"
   ]
  },
  {
   "cell_type": "markdown",
   "id": "5eeb3b5c",
   "metadata": {},
   "source": [
    "# ----------------**IRIS DATA** ```from seaborn```----------------"
   ]
  },
  {
   "cell_type": "code",
   "execution_count": 4,
   "id": "831ed725",
   "metadata": {},
   "outputs": [],
   "source": [
    "def new_iris_sns_df():\n",
    "    '''\n",
    "    This function reads the iris data from the seaborn database into a DataFrame.\n",
    "    '''\n",
    "    \n",
    "    # Read in DataFrame from pydata db.\n",
    "    df = sns.load_dataset('iris')\n",
    "    \n",
    "    return df"
   ]
  },
  {
   "cell_type": "code",
   "execution_count": null,
   "id": "6415d681",
   "metadata": {},
   "outputs": [],
   "source": [
    "def get_iris_sns_df():\n",
    "    '''\n",
    "    This function reads in iris data from seaborn database, writes data to\n",
    "    a csv file if a local file does not exist, and returns a DataFrame.\n",
    "    '''\n",
    "  \n",
    "    if os.path.isfile('iris_sns_df.csv'):\n",
    "        \n",
    "        # If csv file exists read in data from csv file.\n",
    "        df = pd.read_csv('iris_sns_df.csv', index_col=0)\n",
    "        \n",
    "    else:\n",
    "        \n",
    "        # Read fresh data from db into a DataFrame\n",
    "        df = new_iris_sns_df()\n",
    "        \n",
    "        # Cache data\n",
    "        df.to_csv('iris_sns_df.csv')\n",
    "        \n",
    "    return df"
   ]
  },
  {
   "cell_type": "markdown",
   "id": "bfa6f330",
   "metadata": {},
   "source": [
    "# ----------------**Telco_Churn DATA** ```FROM SQL```----------------"
   ]
  },
  {
   "cell_type": "code",
   "execution_count": null,
   "id": "aefd697e",
   "metadata": {},
   "outputs": [],
   "source": [
    "def new_telco_churn_df():\n",
    "    '''\n",
    "    This function reads the telco_churn (NOT telco_normalized) data from the Codeup database into a DataFrame.\n",
    "    '''\n",
    "    # Create SQL query.\n",
    "    sql_query = 'SELECT * FROM customers LEFT JOIN internet_service_types USING (internet_service_type_id) LEFT JOIN contract_types USING (contract_type_id) LEFT JOIN payment_types USING (payment_type_id);'\n",
    "    \n",
    "    # Read in DataFrame from Codeup db.\n",
    "    df = pd.read_sql(sql_query, get_db_url('telco_churn'))\n",
    "    \n",
    "    return df"
   ]
  },
  {
   "cell_type": "code",
   "execution_count": null,
   "id": "c8b95a71",
   "metadata": {},
   "outputs": [],
   "source": [
    "def get_telco_churn_df():\n",
    "    '''\n",
    "    This function reads in telco_churn (NOT telco_normalized) data from Codeup database, writes data to\n",
    "    a csv file if a local file does not exist, and returns a DataFrame.\n",
    "    '''\n",
    "    if os.path.isfile('telco_churn_df.csv'):\n",
    "        \n",
    "        # If csv file exists read in data from csv file.\n",
    "        df = pd.read_csv('telco_churn_df.csv', index_col=0)\n",
    "        \n",
    "    else:\n",
    "        \n",
    "        # Read fresh data from telco db into a DataFrame\n",
    "        df = new_telco_churn_df()\n",
    "        \n",
    "        # Cache data\n",
    "        df.to_csv('telco_churn_df.csv')\n",
    "        \n",
    "    return df"
   ]
  }
 ],
 "metadata": {
  "kernelspec": {
   "display_name": "Python 3 (ipykernel)",
   "language": "python",
   "name": "python3"
  },
  "language_info": {
   "codemirror_mode": {
    "name": "ipython",
    "version": 3
   },
   "file_extension": ".py",
   "mimetype": "text/x-python",
   "name": "python",
   "nbconvert_exporter": "python",
   "pygments_lexer": "ipython3",
   "version": "3.9.12"
  }
 },
 "nbformat": 4,
 "nbformat_minor": 5
}
