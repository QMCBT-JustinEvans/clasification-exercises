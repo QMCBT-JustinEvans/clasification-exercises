{
 "cells": [
  {
   "cell_type": "markdown",
   "id": "ffeab034",
   "metadata": {},
   "source": [
    "<div class=\"alert alert-info\">Example text highlighted in blue (<b>info</b>) background.</div>"
   ]
  },
  {
   "cell_type": "markdown",
   "id": "dbee5970",
   "metadata": {},
   "source": [
    "<div class=\"alert alert-success\">Example text highlighted in green (<b>success</b>) background.</div>"
   ]
  },
  {
   "cell_type": "markdown",
   "id": "254202a1",
   "metadata": {},
   "source": [
    "<div class=\"alert alert-warning\">Example text highlighted in yellow (<b>warning</b>) background.</div>"
   ]
  },
  {
   "cell_type": "markdown",
   "id": "7d94df1a",
   "metadata": {},
   "source": [
    "<div class=\"alert alert-danger\">Example text highlighted in red (<b>danger</b>) background.</div>"
   ]
  },
  {
   "cell_type": "markdown",
   "id": "7eec116d",
   "metadata": {},
   "source": [
    "**POSITIVE (+)** = insert Positive statement here  \n",
    "**NEGATIVE (-)** = insert Negative statement here  \n",
    "\n",
    "**RECALL**  \n",
    "TP / (TP + FN)  \n",
    "Use for less **Type II** errors when **FN** is worst outcome  \n",
    "Maximize for **RECALL** if Cost of **FN** > Cost of **FP**  \n",
    "\n",
    "**PRECISION**  \n",
    "TP / (TP + FP)  \n",
    "Use for less **Type I** errors when **FP** is worst outcome  \n",
    "Maximize for **PRECISION** if Cost of **FP** > Cost of **FN**  \n",
    "\n",
    "**ACCURACY**  \n",
    "(TP + TN)/(FP+FN+TP+TN)  \n",
    "total # prediction TRUE / total  \n",
    "Maximize for **ACCURACY** if neither **RECALL** or **PRECISION** outweigh eachother  \n",
    "\n",
    "* **Classification Confusion Matrix** (actual_col, prediction_row)(Positive_first, Negative_second)\n",
    "|                     | actual Positive (+) | actual Negative(-) |\n",
    "|---------------------|---------------------|--------------------|\n",
    "|  pred Positive (+)  |     TP              |     FP (Type I)    |\n",
    "|  pred Negative (-)  |     FN (Type II)    |     TN             |  \n",
    "\n",
    "* <b>sklearn Confusion Matrix</b> (prediction_col, actual_row)(Negative_first, Positive_second)\n",
    "|                     | pred Negative(-) | pred Positive (+) |\n",
    "|---------------------|------------------|-------------------|\n",
    "| actual Negative (-) |        TN        |    FP (Type I)    |\n",
    "| actual Positive (+) |   FN (Type II)   |         TP        |  \n",
    "\n",
    "**FP**: We **predicted** it was a **POSITIVE** when it was **actually** a **NEGATIVE**  \n",
    "*    FP = We **FALSE**LY predicted it was **POSITIVE**  \n",
    "* False = Our prediction was False, it was actually the opposite of our prediction  \n",
    "* Oops... **TYPE I** error!  \n",
    "\n",
    "**FN**: We **predicted** it was a **NEGATIVE** when it was **actually** a **POSITIVE**  \n",
    "*    FN = We **FALSE**LY predicted it was **NEGATIVE**  \n",
    "* False = Our prediction was False, it was actually the opposite of our prediction  \n",
    "* Oops... **TYPE II** error!  \n",
    "\n",
    "**TP**: We **predicted** it was a **POSITIVE** and it was **actually** a **POSITIVE**  \n",
    "*   TP = We **TRUE**LY predicted it was **POSITIVE**  \n",
    "* True = Our prediction was True, it was actually the same as our prediction  \n",
    "\n",
    "**TN**: We **predicted** it was a **NEGATIVE** and it was **actually** a **NEGATIVE**  \n",
    "*   TN = We **TRUE**LY predicted it was **NEGATIVE**  \n",
    "* True = Our prediction was True, it was actually the same as our prediction  "
   ]
  },
  {
   "cell_type": "markdown",
   "id": "efa26709",
   "metadata": {},
   "source": [
    "**A. Set Hypothesis**  \n",
    "\n",
    "* One Tail (```<= | >```) or Two Tails (```== | !=```)?\\\n",
    " **two_tail (gender, been_manager)**  \n",
    "\n",
    "\n",
    "* One Sample or Two Samples?\\\n",
    " **two_sample (gender, been_manager)**  \n",
    "\n",
    "\n",
    "* Continuous or Discreat?\\\n",
    " **Discreat (gender) vs Discreat (been_manager) = $Chi^2$**  \n",
    "     * T-Test = ```Discreat``` vs ```Continuous```\n",
    "     * Pearson’s = ```Continuous``` vs ```Continuous``` (linear)\n",
    "     * $Chi^2$ = ```Discreat``` vs ```Discreat```\n",
    "\n",
    "\n",
    "* $𝐻_0$: The opposite of what I am trying to prove\\  \n",
    " **$H_{0}$: The employee gender is **NOT** ```dependent``` on whether the employee has been a manager**\\\n",
    " ```employees.gender ``` != ```employees.been_manager```  \n",
    "\n",
    "\n",
    "* $𝐻_𝑎$: What am I trying to prove\\  \n",
    " **$H_{a}$: The employee gender is ```dependent``` on whether the employee has been a manager**\\  \n",
    " ```employees.gender ``` == ```employees.been_manager```"
   ]
  },
  {
   "cell_type": "markdown",
   "id": "ad89edb7",
   "metadata": {},
   "source": [
    "```\n",
    "_______________________________________________________________\n",
    "|                              DF                             |\n",
    "|-------------------|-------------------|---------------------|\n",
    "|       Train       |       Validate    |          Test       |\n",
    "|-------------------|-------------------|-----------|---------|\n",
    "| x_train | y_train |   x_val  |  y_val |   x_test  |  y_test |\n",
    "|-------------------------------------------------------------|\n",
    "```\n",
    "* 1. tree_1 = DecisionTreeClassifier(max_depth = 5)\n",
    "* 2. tree_1.fit(x_train, y_train)\n",
    "* 3. predictions = tree_1.predict(x_train)\n",
    "* 4. pd.crosstab(y_train, predictions)\n",
    "* 5. val_predictions = tree_1.predict(x_val)\n",
    "* 6. pd.crosstab(y_val, val_predictions)"
   ]
  },
  {
   "cell_type": "code",
   "execution_count": null,
   "id": "a09523e7",
   "metadata": {},
   "outputs": [],
   "source": [
    "# dir(acquire)"
   ]
  },
  {
   "cell_type": "markdown",
   "id": "bdde571a",
   "metadata": {},
   "source": [
    "['__builtins__',\n",
    " '__cached__',\n",
    " '__doc__',\n",
    " '__file__',\n",
    " '__loader__',\n",
    " '__name__',\n",
    " '__package__',\n",
    " '__spec__',\n",
    " 'data',\n",
    " 'get_db_url',\n",
    " 'get_iris_sns_df',\n",
    " 'get_iris_sql_df',\n",
    " 'get_telco_churn_df',\n",
    " 'get_titanic_df',\n",
    " 'new_iris_sns_df',\n",
    " 'new_iris_sql_df',\n",
    " 'new_telco_churn_df',\n",
    " 'new_titanic_df',\n",
    " 'np',\n",
    " 'os',\n",
    " 'pd',\n",
    " 'sns']"
   ]
  }
 ],
 "metadata": {
  "kernelspec": {
   "display_name": "Python 3 (ipykernel)",
   "language": "python",
   "name": "python3"
  },
  "language_info": {
   "codemirror_mode": {
    "name": "ipython",
    "version": 3
   },
   "file_extension": ".py",
   "mimetype": "text/x-python",
   "name": "python",
   "nbconvert_exporter": "python",
   "pygments_lexer": "ipython3",
   "version": "3.9.12"
  }
 },
 "nbformat": 4,
 "nbformat_minor": 5
}
