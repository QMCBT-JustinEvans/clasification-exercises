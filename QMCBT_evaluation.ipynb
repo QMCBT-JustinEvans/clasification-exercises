{
 "cells": [
  {
   "cell_type": "code",
   "execution_count": null,
   "id": "ab463a27",
   "metadata": {},
   "outputs": [],
   "source": [
    "# \n",
    "\n",
    "from sklearn.metrics import confusion_matrix\n",
    "\n",
    "def print_classification_metrics(actuals, predictions):\n",
    "    TN, FP, FN, TP = confusion_matrix(actuals, predictions).ravel()\n",
    "    ALL = TP + TN + FP + FN\n",
    "    \n",
    "    accuracy = (TP + TN)/ALL\n",
    "    print(f\"Accuracy: {accuracy}\")\n",
    "\n",
    "    true_positive_rate = TP/(TP+FN)\n",
    "    print(f\"True Positive Rate: {true_positive_rate}\")\n",
    "\n",
    "    false_positive_rate = FP/(FP+TN)\n",
    "    print(f\"False Positive Rate: {false_positive_rate}\")\n",
    "\n",
    "    true_negative_rate = TN/(TN+FP)\n",
    "    print(f\"True Negative Rate: {true_negative_rate}\")\n",
    "\n",
    "    false_negative_rate = FN/(FN+TP)\n",
    "    print(f\"False Negative Rate: {false_negative_rate}\")\n",
    "\n",
    "    precision = TP/(TP+FP)\n",
    "    print(f\"Precision: {precision}\")\n",
    "\n",
    "    recall = TP/(TP+FN)\n",
    "    print(f\"Recall: {recall}\")\n",
    "\n",
    "    f1_score = 2*(precision*recall)/(precision+recall)\n",
    "    print(f\"F1 Score: {f1_score}\")\n",
    "\n",
    "    support_pos = TP + FN\n",
    "    print(f\"Support (0): {support_pos}\")\n",
    "\n",
    "    support_neg = FP + TN\n",
    "    print(f\"Support (1): {support_neg}\")"
   ]
  }
 ],
 "metadata": {
  "kernelspec": {
   "display_name": "Python 3 (ipykernel)",
   "language": "python",
   "name": "python3"
  },
  "language_info": {
   "codemirror_mode": {
    "name": "ipython",
    "version": 3
   },
   "file_extension": ".py",
   "mimetype": "text/x-python",
   "name": "python",
   "nbconvert_exporter": "python",
   "pygments_lexer": "ipython3",
   "version": "3.9.12"
  }
 },
 "nbformat": 4,
 "nbformat_minor": 5
}
