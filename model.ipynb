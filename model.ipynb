{
 "cells": [
  {
   "cell_type": "markdown",
   "id": "e8bd9655",
   "metadata": {},
   "source": [
    "<div class=\"alert alert-block alert-warning\">\n",
    "Planning - Acquisition - Preparation - Exploratory Analysis - <font color='red'><b>Modeling</b></font> - Product Delivery\n",
    "</div>"
   ]
  },
  {
   "cell_type": "markdown",
   "id": "ed0da592",
   "metadata": {},
   "source": [
    "# Decision Tree Exercises\n",
    "Using the titanic data, in your classification-exercises repository, create a notebook, model.ipynb where you will do the following:"
   ]
  },
  {
   "cell_type": "code",
   "execution_count": 1,
   "id": "35b1d485",
   "metadata": {},
   "outputs": [],
   "source": [
    "import pandas as pd\n",
    "import numpy as np\n",
    "import os\n",
    "from pydataset import data\n",
    "\n",
    "import seaborn as sns\n",
    "import matplotlib.pyplot as plt\n",
    "%config InlineBackend.figure_format = 'retina'\n",
    "\n",
    "# Decision Tree and Model Evaluation Imports\n",
    "from sklearn.model_selection import train_test_split\n",
    "from sklearn.ensemble import RandomForestClassifier\n",
    "from sklearn.neighbors import KNeighborsClassifier\n",
    "from sklearn.tree import DecisionTreeClassifier, plot_tree, export_text\n",
    "from sklearn.metrics import classification_report, confusion_matrix, plot_confusion_matrix\n",
    "\n",
    "from env import get_db_url\n",
    "import QMCBT_prepare as prepare\n",
    "import QMCBT_acquire as acquire\n",
    "import QMCBT_evaluate as evaluate"
   ]
  },
  {
   "cell_type": "markdown",
   "id": "d0cd7157",
   "metadata": {},
   "source": [
    "# DECISION TREE TEMPLATE\n",
    "\n",
    "```\n",
    "_______________________________________________________________\n",
    "|                              DF                             |\n",
    "|-------------------|-------------------|---------------------|\n",
    "|       Train       |       Validate    |          Test       |\n",
    "|-------------------|-------------------|-----------|---------|\n",
    "| x_train | y_train |   x_val  |  y_val |   x_test  |  y_test |\n",
    "|-------------------|-------------------|-----------|---------|\n",
    "```\n",
    "* 1. tree_1 = DecisionTreeClassifier(max_depth = 5)\n",
    "* 2. tree_1.fit(x_train, y_train)\n",
    "* 3. predictions = tree_1.predict(x_train)\n",
    "* 4. pd.crosstab(y_train, predictions)\n",
    "* 5. val_predictions = tree_1.predict(x_val)\n",
    "* 6. pd.crosstab(y_val, val_predictions)"
   ]
  },
  {
   "cell_type": "markdown",
   "id": "7109729f",
   "metadata": {},
   "source": [
    "# Acquire"
   ]
  },
  {
   "cell_type": "code",
   "execution_count": 2,
   "id": "03101834",
   "metadata": {},
   "outputs": [
    {
     "data": {
      "text/html": [
       "<div>\n",
       "<style scoped>\n",
       "    .dataframe tbody tr th:only-of-type {\n",
       "        vertical-align: middle;\n",
       "    }\n",
       "\n",
       "    .dataframe tbody tr th {\n",
       "        vertical-align: top;\n",
       "    }\n",
       "\n",
       "    .dataframe thead th {\n",
       "        text-align: right;\n",
       "    }\n",
       "</style>\n",
       "<table border=\"1\" class=\"dataframe\">\n",
       "  <thead>\n",
       "    <tr style=\"text-align: right;\">\n",
       "      <th></th>\n",
       "      <th>passenger_id</th>\n",
       "      <th>survived</th>\n",
       "      <th>pclass</th>\n",
       "      <th>sex</th>\n",
       "      <th>age</th>\n",
       "      <th>sibsp</th>\n",
       "      <th>parch</th>\n",
       "      <th>fare</th>\n",
       "      <th>embarked</th>\n",
       "      <th>class</th>\n",
       "      <th>deck</th>\n",
       "      <th>embark_town</th>\n",
       "      <th>alone</th>\n",
       "    </tr>\n",
       "  </thead>\n",
       "  <tbody>\n",
       "    <tr>\n",
       "      <th>0</th>\n",
       "      <td>0</td>\n",
       "      <td>0</td>\n",
       "      <td>3</td>\n",
       "      <td>male</td>\n",
       "      <td>22.0</td>\n",
       "      <td>1</td>\n",
       "      <td>0</td>\n",
       "      <td>7.2500</td>\n",
       "      <td>S</td>\n",
       "      <td>Third</td>\n",
       "      <td>NaN</td>\n",
       "      <td>Southampton</td>\n",
       "      <td>0</td>\n",
       "    </tr>\n",
       "    <tr>\n",
       "      <th>1</th>\n",
       "      <td>1</td>\n",
       "      <td>1</td>\n",
       "      <td>1</td>\n",
       "      <td>female</td>\n",
       "      <td>38.0</td>\n",
       "      <td>1</td>\n",
       "      <td>0</td>\n",
       "      <td>71.2833</td>\n",
       "      <td>C</td>\n",
       "      <td>First</td>\n",
       "      <td>C</td>\n",
       "      <td>Cherbourg</td>\n",
       "      <td>0</td>\n",
       "    </tr>\n",
       "    <tr>\n",
       "      <th>2</th>\n",
       "      <td>2</td>\n",
       "      <td>1</td>\n",
       "      <td>3</td>\n",
       "      <td>female</td>\n",
       "      <td>26.0</td>\n",
       "      <td>0</td>\n",
       "      <td>0</td>\n",
       "      <td>7.9250</td>\n",
       "      <td>S</td>\n",
       "      <td>Third</td>\n",
       "      <td>NaN</td>\n",
       "      <td>Southampton</td>\n",
       "      <td>1</td>\n",
       "    </tr>\n",
       "    <tr>\n",
       "      <th>3</th>\n",
       "      <td>3</td>\n",
       "      <td>1</td>\n",
       "      <td>1</td>\n",
       "      <td>female</td>\n",
       "      <td>35.0</td>\n",
       "      <td>1</td>\n",
       "      <td>0</td>\n",
       "      <td>53.1000</td>\n",
       "      <td>S</td>\n",
       "      <td>First</td>\n",
       "      <td>C</td>\n",
       "      <td>Southampton</td>\n",
       "      <td>0</td>\n",
       "    </tr>\n",
       "    <tr>\n",
       "      <th>4</th>\n",
       "      <td>4</td>\n",
       "      <td>0</td>\n",
       "      <td>3</td>\n",
       "      <td>male</td>\n",
       "      <td>35.0</td>\n",
       "      <td>0</td>\n",
       "      <td>0</td>\n",
       "      <td>8.0500</td>\n",
       "      <td>S</td>\n",
       "      <td>Third</td>\n",
       "      <td>NaN</td>\n",
       "      <td>Southampton</td>\n",
       "      <td>1</td>\n",
       "    </tr>\n",
       "  </tbody>\n",
       "</table>\n",
       "</div>"
      ],
      "text/plain": [
       "   passenger_id  survived  pclass     sex   age  sibsp  parch     fare  \\\n",
       "0             0         0       3    male  22.0      1      0   7.2500   \n",
       "1             1         1       1  female  38.0      1      0  71.2833   \n",
       "2             2         1       3  female  26.0      0      0   7.9250   \n",
       "3             3         1       1  female  35.0      1      0  53.1000   \n",
       "4             4         0       3    male  35.0      0      0   8.0500   \n",
       "\n",
       "  embarked  class deck  embark_town  alone  \n",
       "0        S  Third  NaN  Southampton      0  \n",
       "1        C  First    C    Cherbourg      0  \n",
       "2        S  Third  NaN  Southampton      1  \n",
       "3        S  First    C  Southampton      0  \n",
       "4        S  Third  NaN  Southampton      1  "
      ]
     },
     "execution_count": 2,
     "metadata": {},
     "output_type": "execute_result"
    }
   ],
   "source": [
    "titanic_df = acquire.get_titanic_df()\n",
    "titanic_df.head()"
   ]
  },
  {
   "cell_type": "markdown",
   "id": "ef4ba0b7",
   "metadata": {},
   "source": [
    "# Prepare"
   ]
  },
  {
   "cell_type": "code",
   "execution_count": 3,
   "id": "8ad9a18c",
   "metadata": {},
   "outputs": [
    {
     "data": {
      "text/html": [
       "<div>\n",
       "<style scoped>\n",
       "    .dataframe tbody tr th:only-of-type {\n",
       "        vertical-align: middle;\n",
       "    }\n",
       "\n",
       "    .dataframe tbody tr th {\n",
       "        vertical-align: top;\n",
       "    }\n",
       "\n",
       "    .dataframe thead th {\n",
       "        text-align: right;\n",
       "    }\n",
       "</style>\n",
       "<table border=\"1\" class=\"dataframe\">\n",
       "  <thead>\n",
       "    <tr style=\"text-align: right;\">\n",
       "      <th></th>\n",
       "      <th>survived</th>\n",
       "      <th>pclass</th>\n",
       "      <th>sex</th>\n",
       "      <th>age</th>\n",
       "      <th>sibsp</th>\n",
       "      <th>parch</th>\n",
       "      <th>fare</th>\n",
       "      <th>embarked</th>\n",
       "      <th>embark_town</th>\n",
       "      <th>alone</th>\n",
       "      <th>male</th>\n",
       "      <th>Cherbourg</th>\n",
       "      <th>Queenstown</th>\n",
       "      <th>Southampton</th>\n",
       "    </tr>\n",
       "  </thead>\n",
       "  <tbody>\n",
       "    <tr>\n",
       "      <th>0</th>\n",
       "      <td>0</td>\n",
       "      <td>3</td>\n",
       "      <td>male</td>\n",
       "      <td>22.0</td>\n",
       "      <td>1</td>\n",
       "      <td>0</td>\n",
       "      <td>7.2500</td>\n",
       "      <td>S</td>\n",
       "      <td>Southampton</td>\n",
       "      <td>0</td>\n",
       "      <td>1</td>\n",
       "      <td>0</td>\n",
       "      <td>0</td>\n",
       "      <td>1</td>\n",
       "    </tr>\n",
       "    <tr>\n",
       "      <th>1</th>\n",
       "      <td>1</td>\n",
       "      <td>1</td>\n",
       "      <td>female</td>\n",
       "      <td>38.0</td>\n",
       "      <td>1</td>\n",
       "      <td>0</td>\n",
       "      <td>71.2833</td>\n",
       "      <td>C</td>\n",
       "      <td>Cherbourg</td>\n",
       "      <td>0</td>\n",
       "      <td>0</td>\n",
       "      <td>1</td>\n",
       "      <td>0</td>\n",
       "      <td>0</td>\n",
       "    </tr>\n",
       "    <tr>\n",
       "      <th>2</th>\n",
       "      <td>1</td>\n",
       "      <td>3</td>\n",
       "      <td>female</td>\n",
       "      <td>26.0</td>\n",
       "      <td>0</td>\n",
       "      <td>0</td>\n",
       "      <td>7.9250</td>\n",
       "      <td>S</td>\n",
       "      <td>Southampton</td>\n",
       "      <td>1</td>\n",
       "      <td>0</td>\n",
       "      <td>0</td>\n",
       "      <td>0</td>\n",
       "      <td>1</td>\n",
       "    </tr>\n",
       "    <tr>\n",
       "      <th>3</th>\n",
       "      <td>1</td>\n",
       "      <td>1</td>\n",
       "      <td>female</td>\n",
       "      <td>35.0</td>\n",
       "      <td>1</td>\n",
       "      <td>0</td>\n",
       "      <td>53.1000</td>\n",
       "      <td>S</td>\n",
       "      <td>Southampton</td>\n",
       "      <td>0</td>\n",
       "      <td>0</td>\n",
       "      <td>0</td>\n",
       "      <td>0</td>\n",
       "      <td>1</td>\n",
       "    </tr>\n",
       "    <tr>\n",
       "      <th>4</th>\n",
       "      <td>0</td>\n",
       "      <td>3</td>\n",
       "      <td>male</td>\n",
       "      <td>35.0</td>\n",
       "      <td>0</td>\n",
       "      <td>0</td>\n",
       "      <td>8.0500</td>\n",
       "      <td>S</td>\n",
       "      <td>Southampton</td>\n",
       "      <td>1</td>\n",
       "      <td>1</td>\n",
       "      <td>0</td>\n",
       "      <td>0</td>\n",
       "      <td>1</td>\n",
       "    </tr>\n",
       "    <tr>\n",
       "      <th>...</th>\n",
       "      <td>...</td>\n",
       "      <td>...</td>\n",
       "      <td>...</td>\n",
       "      <td>...</td>\n",
       "      <td>...</td>\n",
       "      <td>...</td>\n",
       "      <td>...</td>\n",
       "      <td>...</td>\n",
       "      <td>...</td>\n",
       "      <td>...</td>\n",
       "      <td>...</td>\n",
       "      <td>...</td>\n",
       "      <td>...</td>\n",
       "      <td>...</td>\n",
       "    </tr>\n",
       "    <tr>\n",
       "      <th>886</th>\n",
       "      <td>0</td>\n",
       "      <td>2</td>\n",
       "      <td>male</td>\n",
       "      <td>27.0</td>\n",
       "      <td>0</td>\n",
       "      <td>0</td>\n",
       "      <td>13.0000</td>\n",
       "      <td>S</td>\n",
       "      <td>Southampton</td>\n",
       "      <td>1</td>\n",
       "      <td>1</td>\n",
       "      <td>0</td>\n",
       "      <td>0</td>\n",
       "      <td>1</td>\n",
       "    </tr>\n",
       "    <tr>\n",
       "      <th>887</th>\n",
       "      <td>1</td>\n",
       "      <td>1</td>\n",
       "      <td>female</td>\n",
       "      <td>19.0</td>\n",
       "      <td>0</td>\n",
       "      <td>0</td>\n",
       "      <td>30.0000</td>\n",
       "      <td>S</td>\n",
       "      <td>Southampton</td>\n",
       "      <td>1</td>\n",
       "      <td>0</td>\n",
       "      <td>0</td>\n",
       "      <td>0</td>\n",
       "      <td>1</td>\n",
       "    </tr>\n",
       "    <tr>\n",
       "      <th>888</th>\n",
       "      <td>0</td>\n",
       "      <td>3</td>\n",
       "      <td>female</td>\n",
       "      <td>NaN</td>\n",
       "      <td>1</td>\n",
       "      <td>2</td>\n",
       "      <td>23.4500</td>\n",
       "      <td>S</td>\n",
       "      <td>Southampton</td>\n",
       "      <td>0</td>\n",
       "      <td>0</td>\n",
       "      <td>0</td>\n",
       "      <td>0</td>\n",
       "      <td>1</td>\n",
       "    </tr>\n",
       "    <tr>\n",
       "      <th>889</th>\n",
       "      <td>1</td>\n",
       "      <td>1</td>\n",
       "      <td>male</td>\n",
       "      <td>26.0</td>\n",
       "      <td>0</td>\n",
       "      <td>0</td>\n",
       "      <td>30.0000</td>\n",
       "      <td>C</td>\n",
       "      <td>Cherbourg</td>\n",
       "      <td>1</td>\n",
       "      <td>1</td>\n",
       "      <td>1</td>\n",
       "      <td>0</td>\n",
       "      <td>0</td>\n",
       "    </tr>\n",
       "    <tr>\n",
       "      <th>890</th>\n",
       "      <td>0</td>\n",
       "      <td>3</td>\n",
       "      <td>male</td>\n",
       "      <td>32.0</td>\n",
       "      <td>0</td>\n",
       "      <td>0</td>\n",
       "      <td>7.7500</td>\n",
       "      <td>Q</td>\n",
       "      <td>Queenstown</td>\n",
       "      <td>1</td>\n",
       "      <td>1</td>\n",
       "      <td>0</td>\n",
       "      <td>1</td>\n",
       "      <td>0</td>\n",
       "    </tr>\n",
       "  </tbody>\n",
       "</table>\n",
       "<p>891 rows × 14 columns</p>\n",
       "</div>"
      ],
      "text/plain": [
       "     survived  pclass     sex   age  sibsp  parch     fare embarked  \\\n",
       "0           0       3    male  22.0      1      0   7.2500        S   \n",
       "1           1       1  female  38.0      1      0  71.2833        C   \n",
       "2           1       3  female  26.0      0      0   7.9250        S   \n",
       "3           1       1  female  35.0      1      0  53.1000        S   \n",
       "4           0       3    male  35.0      0      0   8.0500        S   \n",
       "..        ...     ...     ...   ...    ...    ...      ...      ...   \n",
       "886         0       2    male  27.0      0      0  13.0000        S   \n",
       "887         1       1  female  19.0      0      0  30.0000        S   \n",
       "888         0       3  female   NaN      1      2  23.4500        S   \n",
       "889         1       1    male  26.0      0      0  30.0000        C   \n",
       "890         0       3    male  32.0      0      0   7.7500        Q   \n",
       "\n",
       "     embark_town  alone  male  Cherbourg  Queenstown  Southampton  \n",
       "0    Southampton      0     1          0           0            1  \n",
       "1      Cherbourg      0     0          1           0            0  \n",
       "2    Southampton      1     0          0           0            1  \n",
       "3    Southampton      0     0          0           0            1  \n",
       "4    Southampton      1     1          0           0            1  \n",
       "..           ...    ...   ...        ...         ...          ...  \n",
       "886  Southampton      1     1          0           0            1  \n",
       "887  Southampton      1     0          0           0            1  \n",
       "888  Southampton      0     0          0           0            1  \n",
       "889    Cherbourg      1     1          1           0            0  \n",
       "890   Queenstown      1     1          0           1            0  \n",
       "\n",
       "[891 rows x 14 columns]"
      ]
     },
     "execution_count": 3,
     "metadata": {},
     "output_type": "execute_result"
    }
   ],
   "source": [
    "titanic_df = prepare.prep_titanic_df(titanic_df)\n",
    "titanic_df"
   ]
  },
  {
   "cell_type": "code",
   "execution_count": 4,
   "id": "c9e2f607",
   "metadata": {},
   "outputs": [
    {
     "name": "stdout",
     "output_type": "stream",
     "text": [
      "_______________________________________________________________\n",
      "|                              DF                             |\n",
      "|-------------------|-------------------|---------------------|\n",
      "|       Train       |       Validate    |          Test       |\n",
      "|-------------------|-------------------|-----------|---------|\n",
      "| x_train | y_train |   x_val  |  y_val |   x_test  |  y_test |\n",
      "|-------------------------------------------------------------|\n",
      "\n",
      "* 1. tree_1 = DecisionTreeClassifier(max_depth = 5)\n",
      "* 2. tree_1.fit(x_train, y_train)\n",
      "* 3. predictions = tree_1.predict(x_train)\n",
      "* 4. pd.crosstab(y_train, predictions)\n",
      "* 5. val_predictions = tree_1.predict(x_val)\n",
      "* 6. pd.crosstab(y_val, val_predictions)\n"
     ]
    },
    {
     "data": {
      "text/html": [
       "<div>\n",
       "<style scoped>\n",
       "    .dataframe tbody tr th:only-of-type {\n",
       "        vertical-align: middle;\n",
       "    }\n",
       "\n",
       "    .dataframe tbody tr th {\n",
       "        vertical-align: top;\n",
       "    }\n",
       "\n",
       "    .dataframe thead th {\n",
       "        text-align: right;\n",
       "    }\n",
       "</style>\n",
       "<table border=\"1\" class=\"dataframe\">\n",
       "  <thead>\n",
       "    <tr style=\"text-align: right;\">\n",
       "      <th></th>\n",
       "      <th>survived</th>\n",
       "      <th>pclass</th>\n",
       "      <th>sex</th>\n",
       "      <th>age</th>\n",
       "      <th>sibsp</th>\n",
       "      <th>parch</th>\n",
       "      <th>fare</th>\n",
       "      <th>embarked</th>\n",
       "      <th>embark_town</th>\n",
       "      <th>alone</th>\n",
       "      <th>male</th>\n",
       "      <th>Cherbourg</th>\n",
       "      <th>Queenstown</th>\n",
       "      <th>Southampton</th>\n",
       "    </tr>\n",
       "  </thead>\n",
       "  <tbody>\n",
       "    <tr>\n",
       "      <th>455</th>\n",
       "      <td>1</td>\n",
       "      <td>3</td>\n",
       "      <td>male</td>\n",
       "      <td>29.0</td>\n",
       "      <td>0</td>\n",
       "      <td>0</td>\n",
       "      <td>7.8958</td>\n",
       "      <td>C</td>\n",
       "      <td>Cherbourg</td>\n",
       "      <td>1</td>\n",
       "      <td>1</td>\n",
       "      <td>1</td>\n",
       "      <td>0</td>\n",
       "      <td>0</td>\n",
       "    </tr>\n",
       "    <tr>\n",
       "      <th>380</th>\n",
       "      <td>1</td>\n",
       "      <td>1</td>\n",
       "      <td>female</td>\n",
       "      <td>42.0</td>\n",
       "      <td>0</td>\n",
       "      <td>0</td>\n",
       "      <td>227.5250</td>\n",
       "      <td>C</td>\n",
       "      <td>Cherbourg</td>\n",
       "      <td>1</td>\n",
       "      <td>0</td>\n",
       "      <td>1</td>\n",
       "      <td>0</td>\n",
       "      <td>0</td>\n",
       "    </tr>\n",
       "    <tr>\n",
       "      <th>492</th>\n",
       "      <td>0</td>\n",
       "      <td>1</td>\n",
       "      <td>male</td>\n",
       "      <td>55.0</td>\n",
       "      <td>0</td>\n",
       "      <td>0</td>\n",
       "      <td>30.5000</td>\n",
       "      <td>S</td>\n",
       "      <td>Southampton</td>\n",
       "      <td>1</td>\n",
       "      <td>1</td>\n",
       "      <td>0</td>\n",
       "      <td>0</td>\n",
       "      <td>1</td>\n",
       "    </tr>\n",
       "    <tr>\n",
       "      <th>55</th>\n",
       "      <td>1</td>\n",
       "      <td>1</td>\n",
       "      <td>male</td>\n",
       "      <td>NaN</td>\n",
       "      <td>0</td>\n",
       "      <td>0</td>\n",
       "      <td>35.5000</td>\n",
       "      <td>S</td>\n",
       "      <td>Southampton</td>\n",
       "      <td>1</td>\n",
       "      <td>1</td>\n",
       "      <td>0</td>\n",
       "      <td>0</td>\n",
       "      <td>1</td>\n",
       "    </tr>\n",
       "    <tr>\n",
       "      <th>243</th>\n",
       "      <td>0</td>\n",
       "      <td>3</td>\n",
       "      <td>male</td>\n",
       "      <td>22.0</td>\n",
       "      <td>0</td>\n",
       "      <td>0</td>\n",
       "      <td>7.1250</td>\n",
       "      <td>S</td>\n",
       "      <td>Southampton</td>\n",
       "      <td>1</td>\n",
       "      <td>1</td>\n",
       "      <td>0</td>\n",
       "      <td>0</td>\n",
       "      <td>1</td>\n",
       "    </tr>\n",
       "  </tbody>\n",
       "</table>\n",
       "</div>"
      ],
      "text/plain": [
       "     survived  pclass     sex   age  sibsp  parch      fare embarked  \\\n",
       "455         1       3    male  29.0      0      0    7.8958        C   \n",
       "380         1       1  female  42.0      0      0  227.5250        C   \n",
       "492         0       1    male  55.0      0      0   30.5000        S   \n",
       "55          1       1    male   NaN      0      0   35.5000        S   \n",
       "243         0       3    male  22.0      0      0    7.1250        S   \n",
       "\n",
       "     embark_town  alone  male  Cherbourg  Queenstown  Southampton  \n",
       "455    Cherbourg      1     1          1           0            0  \n",
       "380    Cherbourg      1     0          1           0            0  \n",
       "492  Southampton      1     1          0           0            1  \n",
       "55   Southampton      1     1          0           0            1  \n",
       "243  Southampton      1     1          0           0            1  "
      ]
     },
     "execution_count": 4,
     "metadata": {},
     "output_type": "execute_result"
    }
   ],
   "source": [
    "target = 'survived'\n",
    "train, validate, test = prepare.train_val_test_split(titanic_df, target)\n",
    "train.head()"
   ]
  },
  {
   "cell_type": "code",
   "execution_count": 5,
   "id": "f68cd31d",
   "metadata": {},
   "outputs": [],
   "source": [
    "# Preprocessing for modeling (remove all OBJECT columns)(ensure no NaNs)\n",
    "X_train = train.drop(columns=['survived','age', 'sex', 'embark_town', 'embarked'])\n",
    "y_train = train.survived\n",
    "\n",
    "X_validate = validate.drop(columns=['survived','age', 'sex', 'embark_town', 'embarked'])\n",
    "y_validate = validate.survived\n",
    "\n",
    "X_test = test.drop(columns=['survived','age', 'sex', 'embark_town', 'embarked'])\n",
    "y_test = test.survived"
   ]
  },
  {
   "cell_type": "code",
   "execution_count": 6,
   "id": "73f0cf75",
   "metadata": {
    "scrolled": true
   },
   "outputs": [
    {
     "data": {
      "text/html": [
       "<div>\n",
       "<style scoped>\n",
       "    .dataframe tbody tr th:only-of-type {\n",
       "        vertical-align: middle;\n",
       "    }\n",
       "\n",
       "    .dataframe tbody tr th {\n",
       "        vertical-align: top;\n",
       "    }\n",
       "\n",
       "    .dataframe thead th {\n",
       "        text-align: right;\n",
       "    }\n",
       "</style>\n",
       "<table border=\"1\" class=\"dataframe\">\n",
       "  <thead>\n",
       "    <tr style=\"text-align: right;\">\n",
       "      <th></th>\n",
       "      <th>pclass</th>\n",
       "      <th>sibsp</th>\n",
       "      <th>parch</th>\n",
       "      <th>fare</th>\n",
       "      <th>alone</th>\n",
       "      <th>male</th>\n",
       "      <th>Cherbourg</th>\n",
       "      <th>Queenstown</th>\n",
       "      <th>Southampton</th>\n",
       "    </tr>\n",
       "  </thead>\n",
       "  <tbody>\n",
       "    <tr>\n",
       "      <th>455</th>\n",
       "      <td>3</td>\n",
       "      <td>0</td>\n",
       "      <td>0</td>\n",
       "      <td>7.8958</td>\n",
       "      <td>1</td>\n",
       "      <td>1</td>\n",
       "      <td>1</td>\n",
       "      <td>0</td>\n",
       "      <td>0</td>\n",
       "    </tr>\n",
       "    <tr>\n",
       "      <th>380</th>\n",
       "      <td>1</td>\n",
       "      <td>0</td>\n",
       "      <td>0</td>\n",
       "      <td>227.5250</td>\n",
       "      <td>1</td>\n",
       "      <td>0</td>\n",
       "      <td>1</td>\n",
       "      <td>0</td>\n",
       "      <td>0</td>\n",
       "    </tr>\n",
       "    <tr>\n",
       "      <th>492</th>\n",
       "      <td>1</td>\n",
       "      <td>0</td>\n",
       "      <td>0</td>\n",
       "      <td>30.5000</td>\n",
       "      <td>1</td>\n",
       "      <td>1</td>\n",
       "      <td>0</td>\n",
       "      <td>0</td>\n",
       "      <td>1</td>\n",
       "    </tr>\n",
       "    <tr>\n",
       "      <th>55</th>\n",
       "      <td>1</td>\n",
       "      <td>0</td>\n",
       "      <td>0</td>\n",
       "      <td>35.5000</td>\n",
       "      <td>1</td>\n",
       "      <td>1</td>\n",
       "      <td>0</td>\n",
       "      <td>0</td>\n",
       "      <td>1</td>\n",
       "    </tr>\n",
       "    <tr>\n",
       "      <th>243</th>\n",
       "      <td>3</td>\n",
       "      <td>0</td>\n",
       "      <td>0</td>\n",
       "      <td>7.1250</td>\n",
       "      <td>1</td>\n",
       "      <td>1</td>\n",
       "      <td>0</td>\n",
       "      <td>0</td>\n",
       "      <td>1</td>\n",
       "    </tr>\n",
       "  </tbody>\n",
       "</table>\n",
       "</div>"
      ],
      "text/plain": [
       "     pclass  sibsp  parch      fare  alone  male  Cherbourg  Queenstown  \\\n",
       "455       3      0      0    7.8958      1     1          1           0   \n",
       "380       1      0      0  227.5250      1     0          1           0   \n",
       "492       1      0      0   30.5000      1     1          0           0   \n",
       "55        1      0      0   35.5000      1     1          0           0   \n",
       "243       3      0      0    7.1250      1     1          0           0   \n",
       "\n",
       "     Southampton  \n",
       "455            0  \n",
       "380            0  \n",
       "492            1  \n",
       "55             1  \n",
       "243            1  "
      ]
     },
     "execution_count": 6,
     "metadata": {},
     "output_type": "execute_result"
    }
   ],
   "source": [
    "X_train.head()"
   ]
  },
  {
   "cell_type": "code",
   "execution_count": 7,
   "id": "f093fd56",
   "metadata": {},
   "outputs": [
    {
     "name": "stdout",
     "output_type": "stream",
     "text": [
      "<class 'pandas.core.frame.DataFrame'>\n",
      "Int64Index: 534 entries, 455 to 496\n",
      "Data columns (total 9 columns):\n",
      " #   Column       Non-Null Count  Dtype  \n",
      "---  ------       --------------  -----  \n",
      " 0   pclass       534 non-null    int64  \n",
      " 1   sibsp        534 non-null    int64  \n",
      " 2   parch        534 non-null    int64  \n",
      " 3   fare         534 non-null    float64\n",
      " 4   alone        534 non-null    int64  \n",
      " 5   male         534 non-null    uint8  \n",
      " 6   Cherbourg    534 non-null    uint8  \n",
      " 7   Queenstown   534 non-null    uint8  \n",
      " 8   Southampton  534 non-null    uint8  \n",
      "dtypes: float64(1), int64(4), uint8(4)\n",
      "memory usage: 27.1 KB\n"
     ]
    }
   ],
   "source": [
    "X_train.info()"
   ]
  },
  {
   "cell_type": "code",
   "execution_count": 8,
   "id": "5a010dc0",
   "metadata": {},
   "outputs": [
    {
     "data": {
      "text/plain": [
       "455    1\n",
       "380    1\n",
       "492    0\n",
       "55     1\n",
       "243    0\n",
       "Name: survived, dtype: int64"
      ]
     },
     "execution_count": 8,
     "metadata": {},
     "output_type": "execute_result"
    }
   ],
   "source": [
    "# show survived (confirm index match with x_train)\n",
    "y_train.head()\n",
    "#y_train[:5]"
   ]
  },
  {
   "cell_type": "markdown",
   "id": "f7e4d69f",
   "metadata": {},
   "source": [
    "Check and confirm shape match between X and y train"
   ]
  },
  {
   "cell_type": "code",
   "execution_count": 9,
   "id": "530e8fb0",
   "metadata": {},
   "outputs": [
    {
     "data": {
      "text/plain": [
       "((534, 9), (178, 9), (179, 9))"
      ]
     },
     "execution_count": 9,
     "metadata": {},
     "output_type": "execute_result"
    }
   ],
   "source": [
    "X_train.shape, X_validate.shape, X_test.shape"
   ]
  },
  {
   "cell_type": "code",
   "execution_count": 10,
   "id": "f46d507c",
   "metadata": {},
   "outputs": [
    {
     "data": {
      "text/plain": [
       "((534,), (178,), (179,))"
      ]
     },
     "execution_count": 10,
     "metadata": {},
     "output_type": "execute_result"
    }
   ],
   "source": [
    "y_train.shape, y_validate.shape, y_test.shape"
   ]
  },
  {
   "cell_type": "markdown",
   "id": "0c08a5da",
   "metadata": {},
   "source": [
    "### 1. What is your baseline prediction? \n",
    "### What is your baseline accuracy? \n",
    "* Remember: your baseline prediction for a classification problem is predicting the most prevelant class in the training dataset (the mode). \n",
    "* When you make those predictions, what is your accuracy? This is your baseline accuracy."
   ]
  },
  {
   "cell_type": "markdown",
   "id": "d9ff55ae",
   "metadata": {},
   "source": [
    "### ANSWER:\n",
    "* **Baseline Prediction** is all True or all False whichever has the highest result in actual\n",
    "* **Baseline Accuracy** is the accuracy achieved if the prediction was always the baseline mode "
   ]
  },
  {
   "cell_type": "code",
   "execution_count": 11,
   "id": "a6ee429d",
   "metadata": {},
   "outputs": [
    {
     "data": {
      "text/plain": [
       "455    1\n",
       "380    1\n",
       "492    0\n",
       "55     1\n",
       "243    0\n",
       "314    0\n",
       "300    1\n",
       "488    0\n",
       "707    1\n",
       "184    1\n",
       "Name: survived, dtype: int64"
      ]
     },
     "execution_count": 11,
     "metadata": {},
     "output_type": "execute_result"
    }
   ],
   "source": [
    "y_train.head(10)"
   ]
  },
  {
   "cell_type": "code",
   "execution_count": 12,
   "id": "7551b3da",
   "metadata": {},
   "outputs": [
    {
     "data": {
      "text/plain": [
       "0    329\n",
       "1    205\n",
       "Name: survived, dtype: int64"
      ]
     },
     "execution_count": 12,
     "metadata": {},
     "output_type": "execute_result"
    }
   ],
   "source": [
    "y_train.value_counts()"
   ]
  },
  {
   "cell_type": "code",
   "execution_count": 13,
   "id": "74f97b11",
   "metadata": {},
   "outputs": [
    {
     "name": "stdout",
     "output_type": "stream",
     "text": [
      "Baseline accuracy: 0.62\n"
     ]
    }
   ],
   "source": [
    "# The mode of the target (0 = 329) is a great baseline\n",
    "baseline = y_train.mode()\n",
    "\n",
    "# Produce a boolean array with True representing a match between the baseline prediction and reality\n",
    "baseline_prediction = (y_train == 0)\n",
    "\n",
    "# baseline accuracy\n",
    "baseline_accuracy = baseline_prediction.mean()\n",
    "print(f\"Baseline accuracy: {round(baseline_accuracy, 2)}\")"
   ]
  },
  {
   "cell_type": "markdown",
   "id": "43ef6132",
   "metadata": {},
   "source": [
    "### 2. Fit the decision tree classifier to your training sample and transform (i.e. make predictions on the training sample)"
   ]
  },
  {
   "cell_type": "code",
   "execution_count": 14,
   "id": "392bef31",
   "metadata": {},
   "outputs": [],
   "source": [
    "# Make the model\n",
    "tree1 = DecisionTreeClassifier(max_depth=3, random_state=1992)\n",
    "\n",
    "# Fit the model (on train and only train)\n",
    "tree1 = tree1.fit(X_train, y_train)\n",
    "\n",
    "# Use the model\n",
    "# We'll evaluate the model's performance on train, first\n",
    "y_predictions = tree1.predict(X_train)"
   ]
  },
  {
   "cell_type": "code",
   "execution_count": 15,
   "id": "b5a30bcb",
   "metadata": {},
   "outputs": [
    {
     "data": {
      "image/png": "[encoded data removed]",
      "text/plain": [
       "<Figure size 864x504 with 1 Axes>"
      ]
     },
     "metadata": {
      "image/png": {
       "height": 394,
       "width": 683
      },
      "needs_background": "light"
     },
     "output_type": "display_data"
    }
   ],
   "source": [
    "plt.figure(figsize=(12, 7))\n",
    "plot_tree(tree1, feature_names=X_train.columns, class_names=['0','1'])\n",
    "plt.show()"
   ]
  },
  {
   "cell_type": "markdown",
   "id": "ea2da46f",
   "metadata": {},
   "source": [
    "### 3. Evaluate your in-sample results using the model score, confusion matrix, and classification report."
   ]
  },
  {
   "cell_type": "code",
   "execution_count": 16,
   "id": "e5c91d20",
   "metadata": {},
   "outputs": [
    {
     "name": "stdout",
     "output_type": "stream",
     "text": [
      "Accuracy of Decision Tree classifier on training set: 0.82\n"
     ]
    }
   ],
   "source": [
    "print('Accuracy of Decision Tree classifier on training set: {:.2f}'\n",
    "      .format(tree1.score(X_train, y_train)))"
   ]
  },
  {
   "cell_type": "code",
   "execution_count": 17,
   "id": "d35bccb4",
   "metadata": {},
   "outputs": [
    {
     "data": {
      "text/plain": [
       "<sklearn.metrics._plot.confusion_matrix.ConfusionMatrixDisplay at 0x12a624220>"
      ]
     },
     "execution_count": 17,
     "metadata": {},
     "output_type": "execute_result"
    },
    {
     "data": {
      "image/png": "[encoded data removed]",
      "text/plain": [
       "<Figure size 432x288 with 2 Axes>"
      ]
     },
     "metadata": {
      "image/png": {
       "height": 261,
       "width": 312
      },
      "needs_background": "light"
     },
     "output_type": "display_data"
    }
   ],
   "source": [
    "plot_confusion_matrix(tree1, X_train, y_train)"
   ]
  },
  {
   "cell_type": "code",
   "execution_count": 18,
   "id": "523c7295",
   "metadata": {
    "scrolled": true
   },
   "outputs": [
    {
     "name": "stdout",
     "output_type": "stream",
     "text": [
      "              precision    recall  f1-score   support\n",
      "\n",
      "           0       0.82      0.90      0.86       329\n",
      "           1       0.81      0.69      0.75       205\n",
      "\n",
      "    accuracy                           0.82       534\n",
      "   macro avg       0.82      0.79      0.80       534\n",
      "weighted avg       0.82      0.82      0.82       534\n",
      "\n"
     ]
    }
   ],
   "source": [
    "print(classification_report(y_train, y_predictions))"
   ]
  },
  {
   "cell_type": "code",
   "execution_count": 19,
   "id": "c9cc3930",
   "metadata": {},
   "outputs": [
    {
     "name": "stdout",
     "output_type": "stream",
     "text": [
      "Tree1 with max_depth(3)\n"
     ]
    },
    {
     "data": {
      "text/html": [
       "<div>\n",
       "<style scoped>\n",
       "    .dataframe tbody tr th:only-of-type {\n",
       "        vertical-align: middle;\n",
       "    }\n",
       "\n",
       "    .dataframe tbody tr th {\n",
       "        vertical-align: top;\n",
       "    }\n",
       "\n",
       "    .dataframe thead th {\n",
       "        text-align: right;\n",
       "    }\n",
       "</style>\n",
       "<table border=\"1\" class=\"dataframe\">\n",
       "  <thead>\n",
       "    <tr style=\"text-align: right;\">\n",
       "      <th></th>\n",
       "      <th>0</th>\n",
       "      <th>1</th>\n",
       "      <th>accuracy</th>\n",
       "      <th>macro avg</th>\n",
       "      <th>weighted avg</th>\n",
       "    </tr>\n",
       "  </thead>\n",
       "  <tbody>\n",
       "    <tr>\n",
       "      <th>precision</th>\n",
       "      <td>0.824022</td>\n",
       "      <td>0.806818</td>\n",
       "      <td>0.818352</td>\n",
       "      <td>0.815420</td>\n",
       "      <td>0.817418</td>\n",
       "    </tr>\n",
       "    <tr>\n",
       "      <th>recall</th>\n",
       "      <td>0.896657</td>\n",
       "      <td>0.692683</td>\n",
       "      <td>0.818352</td>\n",
       "      <td>0.794670</td>\n",
       "      <td>0.818352</td>\n",
       "    </tr>\n",
       "    <tr>\n",
       "      <th>f1-score</th>\n",
       "      <td>0.858806</td>\n",
       "      <td>0.745407</td>\n",
       "      <td>0.818352</td>\n",
       "      <td>0.802107</td>\n",
       "      <td>0.815273</td>\n",
       "    </tr>\n",
       "    <tr>\n",
       "      <th>support</th>\n",
       "      <td>329.000000</td>\n",
       "      <td>205.000000</td>\n",
       "      <td>0.818352</td>\n",
       "      <td>534.000000</td>\n",
       "      <td>534.000000</td>\n",
       "    </tr>\n",
       "  </tbody>\n",
       "</table>\n",
       "</div>"
      ],
      "text/plain": [
       "                    0           1  accuracy   macro avg  weighted avg\n",
       "precision    0.824022    0.806818  0.818352    0.815420      0.817418\n",
       "recall       0.896657    0.692683  0.818352    0.794670      0.818352\n",
       "f1-score     0.858806    0.745407  0.818352    0.802107      0.815273\n",
       "support    329.000000  205.000000  0.818352  534.000000    534.000000"
      ]
     },
     "execution_count": 19,
     "metadata": {},
     "output_type": "execute_result"
    }
   ],
   "source": [
    "# Produce the classification report \n",
    "# comparing the actual y values and this model's predicted y values\n",
    "report = classification_report(y_train, y_predictions, output_dict = True)\n",
    "print(\"Tree1 with max_depth(3)\")\n",
    "pd.DataFrame(report)"
   ]
  },
  {
   "cell_type": "markdown",
   "id": "f066ae63",
   "metadata": {},
   "source": [
    "### 4. Compute: Accuracy, true positive rate, false positive rate, true negative rate, false negative rate, precision, recall, f1-score, and support."
   ]
  },
  {
   "cell_type": "markdown",
   "id": "c001790e",
   "metadata": {},
   "source": [
    "sklearn will base positive off the target in this case ```'survived'```"
   ]
  },
  {
   "cell_type": "code",
   "execution_count": 20,
   "id": "2142eb63",
   "metadata": {},
   "outputs": [
    {
     "name": "stdout",
     "output_type": "stream",
     "text": [
      "Accuracy: 0.8183520599250936\n",
      "True Positive Rate: 0.6926829268292682\n",
      "False Positive Rate: 0.1033434650455927\n",
      "True Negative Rate: 0.8966565349544073\n",
      "False Negative Rate: 0.3073170731707317\n",
      "Precision: 0.8068181818181818\n",
      "Recall: 0.6926829268292682\n",
      "F1 Score: 0.7454068241469816\n",
      "Support (0): 205\n",
      "Support (1): 329\n"
     ]
    }
   ],
   "source": [
    "evaluate.print_class_metrics(y_train, y_predictions)"
   ]
  },
  {
   "cell_type": "markdown",
   "id": "0760a2a2",
   "metadata": {},
   "source": [
    "### 5. Run through steps 2-4 using a different ```max_depth``` value."
   ]
  },
  {
   "cell_type": "code",
   "execution_count": 21,
   "id": "5cfd7072",
   "metadata": {},
   "outputs": [
    {
     "name": "stdout",
     "output_type": "stream",
     "text": [
      "Tree with max depth of 1\n",
      "                    0           1  accuracy   macro avg  weighted avg\n",
      "precision    0.813218    0.752688  0.792135    0.782953      0.789981\n",
      "recall       0.860182    0.682927  0.792135    0.771555      0.792135\n",
      "f1-score     0.836041    0.716113  0.792135    0.776077      0.790001\n",
      "support    329.000000  205.000000  0.792135  534.000000    534.000000\n",
      "\n",
      "Tree with max depth of 2\n",
      "                    0           1  accuracy   macro avg  weighted avg\n",
      "precision    0.813218    0.752688  0.792135    0.782953      0.789981\n",
      "recall       0.860182    0.682927  0.792135    0.771555      0.792135\n",
      "f1-score     0.836041    0.716113  0.792135    0.776077      0.790001\n",
      "support    329.000000  205.000000  0.792135  534.000000    534.000000\n",
      "\n",
      "Tree with max depth of 3\n",
      "                    0           1  accuracy   macro avg  weighted avg\n",
      "precision    0.824022    0.806818  0.818352    0.815420      0.817418\n",
      "recall       0.896657    0.692683  0.818352    0.794670      0.818352\n",
      "f1-score     0.858806    0.745407  0.818352    0.802107      0.815273\n",
      "support    329.000000  205.000000  0.818352  534.000000    534.000000\n",
      "\n",
      "Tree with max depth of 4\n",
      "                    0           1  accuracy   macro avg  weighted avg\n",
      "precision    0.824513    0.811429  0.820225    0.817971      0.819490\n",
      "recall       0.899696    0.692683  0.820225    0.796189      0.820225\n",
      "f1-score     0.860465    0.747368  0.820225    0.803917      0.817048\n",
      "support    329.000000  205.000000  0.820225  534.000000    534.000000\n",
      "\n",
      "Tree with max depth of 5\n",
      "                    0           1  accuracy   macro avg  weighted avg\n",
      "precision    0.797030    0.946154  0.833333    0.871592      0.854278\n",
      "recall       0.978723    0.600000  0.833333    0.789362      0.833333\n",
      "f1-score     0.878581    0.734328  0.833333    0.806455      0.823203\n",
      "support    329.000000  205.000000  0.833333  534.000000    534.000000\n",
      "\n",
      "Tree with max depth of 6\n",
      "                    0           1  accuracy   macro avg  weighted avg\n",
      "precision    0.827320    0.945205  0.859551    0.886263      0.872575\n",
      "recall       0.975684    0.673171  0.859551    0.824427      0.859551\n",
      "f1-score     0.895397    0.786325  0.859551    0.840861      0.853525\n",
      "support    329.000000  205.000000  0.859551  534.000000    534.000000\n",
      "\n",
      "Tree with max depth of 7\n",
      "                    0           1  accuracy   macro avg  weighted avg\n",
      "precision    0.832041    0.952381  0.865169    0.892211      0.878239\n",
      "recall       0.978723    0.682927  0.865169    0.830825      0.865169\n",
      "f1-score     0.899441    0.795455  0.865169    0.847448      0.859521\n",
      "support    329.000000  205.000000  0.865169  534.000000    534.000000\n",
      "\n",
      "Tree with max depth of 8\n",
      "                    0           1  accuracy   macro avg  weighted avg\n",
      "precision    0.867021    0.981013  0.900749    0.924017      0.910782\n",
      "recall       0.990881    0.756098  0.900749    0.873490      0.900749\n",
      "f1-score     0.924823    0.853994  0.900749    0.889409      0.897632\n",
      "support    329.000000  205.000000  0.900749  534.000000    534.000000\n",
      "\n",
      "Tree with max depth of 9\n",
      "                    0           1  accuracy   macro avg  weighted avg\n",
      "precision    0.887671    0.970414  0.913858    0.929043      0.919436\n",
      "recall       0.984802    0.800000  0.913858    0.892401      0.913858\n",
      "f1-score     0.933718    0.877005  0.913858    0.905361      0.911946\n",
      "support    329.000000  205.000000  0.913858  534.000000    534.000000\n",
      "\n",
      "Tree with max depth of 10\n",
      "                    0           1  accuracy   macro avg  weighted avg\n",
      "precision    0.902507    0.971429  0.925094    0.936968      0.928966\n",
      "recall       0.984802    0.829268  0.925094    0.907035      0.925094\n",
      "f1-score     0.941860    0.894737  0.925094    0.918299      0.923770\n",
      "support    329.000000  205.000000  0.925094  534.000000    534.000000\n",
      "\n",
      "Tree with max depth of 11\n",
      "                    0           1  accuracy   macro avg  weighted avg\n",
      "precision    0.900826    0.988304  0.928839    0.944565      0.934409\n",
      "recall       0.993921    0.824390  0.928839    0.909156      0.928839\n",
      "f1-score     0.945087    0.898936  0.928839    0.922011      0.927370\n",
      "support    329.000000  205.000000  0.928839  534.000000    534.000000\n",
      "\n",
      "Tree with max depth of 12\n",
      "                    0           1  accuracy   macro avg  weighted avg\n",
      "precision    0.925501    0.967568  0.940075    0.946535      0.941650\n",
      "recall       0.981763    0.873171  0.940075    0.927467      0.940075\n",
      "f1-score     0.952802    0.917949  0.940075    0.935376      0.939422\n",
      "support    329.000000  205.000000  0.940075  534.000000    534.000000\n",
      "\n",
      "Tree with max depth of 13\n",
      "                    0           1  accuracy   macro avg  weighted avg\n",
      "precision    0.923513    0.983425   0.94382    0.953469      0.946513\n",
      "recall       0.990881    0.868293   0.94382    0.929587      0.943820\n",
      "f1-score     0.956012    0.922280   0.94382    0.939146      0.943062\n",
      "support    329.000000  205.000000   0.94382  534.000000    534.000000\n",
      "\n",
      "Tree with max depth of 14\n",
      "                    0           1  accuracy   macro avg  weighted avg\n",
      "precision    0.923513    0.983425   0.94382    0.953469      0.946513\n",
      "recall       0.990881    0.868293   0.94382    0.929587      0.943820\n",
      "f1-score     0.956012    0.922280   0.94382    0.939146      0.943062\n",
      "support    329.000000  205.000000   0.94382  534.000000    534.000000\n",
      "\n",
      "Tree with max depth of 15\n",
      "                    0           1  accuracy   macro avg  weighted avg\n",
      "precision    0.923729    0.988889  0.945693    0.956309      0.948743\n",
      "recall       0.993921    0.868293  0.945693    0.931107      0.945693\n",
      "f1-score     0.957540    0.924675  0.945693    0.941108      0.944924\n",
      "support    329.000000  205.000000  0.945693  534.000000    534.000000\n",
      "\n",
      "Tree with max depth of 16\n",
      "                    0           1  accuracy   macro avg  weighted avg\n",
      "precision    0.923729    0.988889  0.945693    0.956309      0.948743\n",
      "recall       0.993921    0.868293  0.945693    0.931107      0.945693\n",
      "f1-score     0.957540    0.924675  0.945693    0.941108      0.944924\n",
      "support    329.000000  205.000000  0.945693  534.000000    534.000000\n",
      "\n",
      "Tree with max depth of 17\n",
      "                    0           1  accuracy   macro avg  weighted avg\n",
      "precision    0.923729    0.988889  0.945693    0.956309      0.948743\n",
      "recall       0.993921    0.868293  0.945693    0.931107      0.945693\n",
      "f1-score     0.957540    0.924675  0.945693    0.941108      0.944924\n",
      "support    329.000000  205.000000  0.945693  534.000000    534.000000\n",
      "\n",
      "Tree with max depth of 18\n",
      "                    0           1  accuracy   macro avg  weighted avg\n",
      "precision    0.923729    0.988889  0.945693    0.956309      0.948743\n",
      "recall       0.993921    0.868293  0.945693    0.931107      0.945693\n",
      "f1-score     0.957540    0.924675  0.945693    0.941108      0.944924\n",
      "support    329.000000  205.000000  0.945693  534.000000    534.000000\n",
      "\n",
      "Tree with max depth of 19\n",
      "                    0           1  accuracy   macro avg  weighted avg\n",
      "precision    0.923729    0.988889  0.945693    0.956309      0.948743\n",
      "recall       0.993921    0.868293  0.945693    0.931107      0.945693\n",
      "f1-score     0.957540    0.924675  0.945693    0.941108      0.944924\n",
      "support    329.000000  205.000000  0.945693  534.000000    534.000000\n",
      "\n",
      "Tree with max depth of 20\n",
      "                    0           1  accuracy   macro avg  weighted avg\n",
      "precision    0.923729    0.988889  0.945693    0.956309      0.948743\n",
      "recall       0.993921    0.868293  0.945693    0.931107      0.945693\n",
      "f1-score     0.957540    0.924675  0.945693    0.941108      0.944924\n",
      "support    329.000000  205.000000  0.945693  534.000000    534.000000\n",
      "\n"
     ]
    }
   ],
   "source": [
    "# Let's get loopy\n",
    "# This will try max_depth at each value in the range\n",
    "for i in range(1, 21):\n",
    "    # Make the model\n",
    "    tree = DecisionTreeClassifier(max_depth=i, random_state=1992)\n",
    "\n",
    "    # Fit the model (on train and only train)\n",
    "    tree = tree.fit(X_train, y_train)\n",
    "\n",
    "    # Use the model\n",
    "    # We'll evaluate the model's performance on train, first\n",
    "    y_predictions = tree.predict(X_train)\n",
    "\n",
    "    # Produce the classification report on the actual y values and this model's predicted y values\n",
    "    report = classification_report(y_train, y_predictions, output_dict = True)\n",
    "    print(f\"Tree with max depth of {i}\")\n",
    "    print(pd.DataFrame(report))\n",
    "    print()"
   ]
  },
  {
   "cell_type": "markdown",
   "id": "b402eadd",
   "metadata": {},
   "source": [
    "### 6. Which model performs better on your in-sample data?"
   ]
  },
  {
   "cell_type": "markdown",
   "id": "6c097510",
   "metadata": {},
   "source": [
    "max_depth of 15-20 produced the highest accuracy of 0.945693"
   ]
  },
  {
   "cell_type": "markdown",
   "id": "b76866f5",
   "metadata": {},
   "source": [
    "### 7. Which model performs best on your out-of-sample data, the ```validate``` set?"
   ]
  },
  {
   "cell_type": "code",
   "execution_count": 22,
   "id": "2097f079",
   "metadata": {
    "scrolled": true
   },
   "outputs": [
    {
     "data": {
      "text/html": [
       "<div>\n",
       "<style scoped>\n",
       "    .dataframe tbody tr th:only-of-type {\n",
       "        vertical-align: middle;\n",
       "    }\n",
       "\n",
       "    .dataframe tbody tr th {\n",
       "        vertical-align: top;\n",
       "    }\n",
       "\n",
       "    .dataframe thead th {\n",
       "        text-align: right;\n",
       "    }\n",
       "</style>\n",
       "<table border=\"1\" class=\"dataframe\">\n",
       "  <thead>\n",
       "    <tr style=\"text-align: right;\">\n",
       "      <th></th>\n",
       "      <th>max_depth</th>\n",
       "      <th>train_accuracy</th>\n",
       "      <th>validate_accuracy</th>\n",
       "      <th>difference</th>\n",
       "    </tr>\n",
       "  </thead>\n",
       "  <tbody>\n",
       "    <tr>\n",
       "      <th>0</th>\n",
       "      <td>1</td>\n",
       "      <td>0.792135</td>\n",
       "      <td>0.775281</td>\n",
       "      <td>0.016854</td>\n",
       "    </tr>\n",
       "    <tr>\n",
       "      <th>1</th>\n",
       "      <td>2</td>\n",
       "      <td>0.792135</td>\n",
       "      <td>0.775281</td>\n",
       "      <td>0.016854</td>\n",
       "    </tr>\n",
       "    <tr>\n",
       "      <th>2</th>\n",
       "      <td>3</td>\n",
       "      <td>0.818352</td>\n",
       "      <td>0.792135</td>\n",
       "      <td>0.026217</td>\n",
       "    </tr>\n",
       "    <tr>\n",
       "      <th>3</th>\n",
       "      <td>4</td>\n",
       "      <td>0.820225</td>\n",
       "      <td>0.792135</td>\n",
       "      <td>0.028090</td>\n",
       "    </tr>\n",
       "    <tr>\n",
       "      <th>4</th>\n",
       "      <td>5</td>\n",
       "      <td>0.833333</td>\n",
       "      <td>0.730337</td>\n",
       "      <td>0.102996</td>\n",
       "    </tr>\n",
       "    <tr>\n",
       "      <th>5</th>\n",
       "      <td>6</td>\n",
       "      <td>0.859551</td>\n",
       "      <td>0.775281</td>\n",
       "      <td>0.084270</td>\n",
       "    </tr>\n",
       "    <tr>\n",
       "      <th>6</th>\n",
       "      <td>7</td>\n",
       "      <td>0.865169</td>\n",
       "      <td>0.769663</td>\n",
       "      <td>0.095506</td>\n",
       "    </tr>\n",
       "    <tr>\n",
       "      <th>7</th>\n",
       "      <td>8</td>\n",
       "      <td>0.900749</td>\n",
       "      <td>0.775281</td>\n",
       "      <td>0.125468</td>\n",
       "    </tr>\n",
       "    <tr>\n",
       "      <th>8</th>\n",
       "      <td>9</td>\n",
       "      <td>0.913858</td>\n",
       "      <td>0.758427</td>\n",
       "      <td>0.155431</td>\n",
       "    </tr>\n",
       "    <tr>\n",
       "      <th>9</th>\n",
       "      <td>10</td>\n",
       "      <td>0.925094</td>\n",
       "      <td>0.758427</td>\n",
       "      <td>0.166667</td>\n",
       "    </tr>\n",
       "    <tr>\n",
       "      <th>10</th>\n",
       "      <td>11</td>\n",
       "      <td>0.928839</td>\n",
       "      <td>0.758427</td>\n",
       "      <td>0.170412</td>\n",
       "    </tr>\n",
       "    <tr>\n",
       "      <th>11</th>\n",
       "      <td>12</td>\n",
       "      <td>0.940075</td>\n",
       "      <td>0.747191</td>\n",
       "      <td>0.192884</td>\n",
       "    </tr>\n",
       "    <tr>\n",
       "      <th>12</th>\n",
       "      <td>13</td>\n",
       "      <td>0.943820</td>\n",
       "      <td>0.741573</td>\n",
       "      <td>0.202247</td>\n",
       "    </tr>\n",
       "    <tr>\n",
       "      <th>13</th>\n",
       "      <td>14</td>\n",
       "      <td>0.943820</td>\n",
       "      <td>0.735955</td>\n",
       "      <td>0.207865</td>\n",
       "    </tr>\n",
       "    <tr>\n",
       "      <th>14</th>\n",
       "      <td>15</td>\n",
       "      <td>0.945693</td>\n",
       "      <td>0.730337</td>\n",
       "      <td>0.215356</td>\n",
       "    </tr>\n",
       "    <tr>\n",
       "      <th>15</th>\n",
       "      <td>16</td>\n",
       "      <td>0.945693</td>\n",
       "      <td>0.730337</td>\n",
       "      <td>0.215356</td>\n",
       "    </tr>\n",
       "    <tr>\n",
       "      <th>16</th>\n",
       "      <td>17</td>\n",
       "      <td>0.945693</td>\n",
       "      <td>0.730337</td>\n",
       "      <td>0.215356</td>\n",
       "    </tr>\n",
       "    <tr>\n",
       "      <th>17</th>\n",
       "      <td>18</td>\n",
       "      <td>0.945693</td>\n",
       "      <td>0.730337</td>\n",
       "      <td>0.215356</td>\n",
       "    </tr>\n",
       "    <tr>\n",
       "      <th>18</th>\n",
       "      <td>19</td>\n",
       "      <td>0.945693</td>\n",
       "      <td>0.730337</td>\n",
       "      <td>0.215356</td>\n",
       "    </tr>\n",
       "    <tr>\n",
       "      <th>19</th>\n",
       "      <td>20</td>\n",
       "      <td>0.945693</td>\n",
       "      <td>0.730337</td>\n",
       "      <td>0.215356</td>\n",
       "    </tr>\n",
       "    <tr>\n",
       "      <th>20</th>\n",
       "      <td>21</td>\n",
       "      <td>0.945693</td>\n",
       "      <td>0.730337</td>\n",
       "      <td>0.215356</td>\n",
       "    </tr>\n",
       "    <tr>\n",
       "      <th>21</th>\n",
       "      <td>22</td>\n",
       "      <td>0.945693</td>\n",
       "      <td>0.730337</td>\n",
       "      <td>0.215356</td>\n",
       "    </tr>\n",
       "    <tr>\n",
       "      <th>22</th>\n",
       "      <td>23</td>\n",
       "      <td>0.945693</td>\n",
       "      <td>0.730337</td>\n",
       "      <td>0.215356</td>\n",
       "    </tr>\n",
       "    <tr>\n",
       "      <th>23</th>\n",
       "      <td>24</td>\n",
       "      <td>0.945693</td>\n",
       "      <td>0.730337</td>\n",
       "      <td>0.215356</td>\n",
       "    </tr>\n",
       "    <tr>\n",
       "      <th>24</th>\n",
       "      <td>25</td>\n",
       "      <td>0.945693</td>\n",
       "      <td>0.730337</td>\n",
       "      <td>0.215356</td>\n",
       "    </tr>\n",
       "    <tr>\n",
       "      <th>25</th>\n",
       "      <td>26</td>\n",
       "      <td>0.945693</td>\n",
       "      <td>0.730337</td>\n",
       "      <td>0.215356</td>\n",
       "    </tr>\n",
       "    <tr>\n",
       "      <th>26</th>\n",
       "      <td>27</td>\n",
       "      <td>0.945693</td>\n",
       "      <td>0.730337</td>\n",
       "      <td>0.215356</td>\n",
       "    </tr>\n",
       "    <tr>\n",
       "      <th>27</th>\n",
       "      <td>28</td>\n",
       "      <td>0.945693</td>\n",
       "      <td>0.730337</td>\n",
       "      <td>0.215356</td>\n",
       "    </tr>\n",
       "    <tr>\n",
       "      <th>28</th>\n",
       "      <td>29</td>\n",
       "      <td>0.945693</td>\n",
       "      <td>0.730337</td>\n",
       "      <td>0.215356</td>\n",
       "    </tr>\n",
       "    <tr>\n",
       "      <th>29</th>\n",
       "      <td>30</td>\n",
       "      <td>0.945693</td>\n",
       "      <td>0.730337</td>\n",
       "      <td>0.215356</td>\n",
       "    </tr>\n",
       "  </tbody>\n",
       "</table>\n",
       "</div>"
      ],
      "text/plain": [
       "    max_depth  train_accuracy  validate_accuracy  difference\n",
       "0           1        0.792135           0.775281    0.016854\n",
       "1           2        0.792135           0.775281    0.016854\n",
       "2           3        0.818352           0.792135    0.026217\n",
       "3           4        0.820225           0.792135    0.028090\n",
       "4           5        0.833333           0.730337    0.102996\n",
       "5           6        0.859551           0.775281    0.084270\n",
       "6           7        0.865169           0.769663    0.095506\n",
       "7           8        0.900749           0.775281    0.125468\n",
       "8           9        0.913858           0.758427    0.155431\n",
       "9          10        0.925094           0.758427    0.166667\n",
       "10         11        0.928839           0.758427    0.170412\n",
       "11         12        0.940075           0.747191    0.192884\n",
       "12         13        0.943820           0.741573    0.202247\n",
       "13         14        0.943820           0.735955    0.207865\n",
       "14         15        0.945693           0.730337    0.215356\n",
       "15         16        0.945693           0.730337    0.215356\n",
       "16         17        0.945693           0.730337    0.215356\n",
       "17         18        0.945693           0.730337    0.215356\n",
       "18         19        0.945693           0.730337    0.215356\n",
       "19         20        0.945693           0.730337    0.215356\n",
       "20         21        0.945693           0.730337    0.215356\n",
       "21         22        0.945693           0.730337    0.215356\n",
       "22         23        0.945693           0.730337    0.215356\n",
       "23         24        0.945693           0.730337    0.215356\n",
       "24         25        0.945693           0.730337    0.215356\n",
       "25         26        0.945693           0.730337    0.215356\n",
       "26         27        0.945693           0.730337    0.215356\n",
       "27         28        0.945693           0.730337    0.215356\n",
       "28         29        0.945693           0.730337    0.215356\n",
       "29         30        0.945693           0.730337    0.215356"
      ]
     },
     "execution_count": 22,
     "metadata": {},
     "output_type": "execute_result"
    }
   ],
   "source": [
    "# Let's continue getting loopy, so we can compare in-sample to out-of-sample\n",
    "metrics = []\n",
    "\n",
    "for i in range(1, 31):\n",
    "    # Make the model\n",
    "    tree = DecisionTreeClassifier(max_depth=i, random_state=1992)\n",
    "\n",
    "    # Fit the model (on train and only train)\n",
    "    tree = tree.fit(X_train, y_train)\n",
    "\n",
    "    # Use the model\n",
    "    # We'll evaluate the model's performance on train, first\n",
    "    in_sample_accuracy = tree.score(X_train, y_train)\n",
    "    \n",
    "    out_of_sample_accuracy = tree.score(X_validate, y_validate)\n",
    "\n",
    "    output = {\n",
    "        \"max_depth\": i,\n",
    "        \"train_accuracy\": in_sample_accuracy,\n",
    "        \"validate_accuracy\": out_of_sample_accuracy\n",
    "    }\n",
    "    \n",
    "    metrics.append(output)\n",
    "    \n",
    "metrics_df = pd.DataFrame(metrics)\n",
    "metrics_df[\"difference\"] = metrics_df.train_accuracy - metrics_df.validate_accuracy\n",
    "metrics_df"
   ]
  },
  {
   "cell_type": "markdown",
   "id": "5908b9eb",
   "metadata": {},
   "source": [
    "max_depth of 15-30 produced the highest accuracy of 0.945693 for train and 0.730337 for validate."
   ]
  },
  {
   "cell_type": "code",
   "execution_count": 23,
   "id": "2cb33a5b",
   "metadata": {},
   "outputs": [
    {
     "data": {
      "image/png": "[encoded data removed]",
      "text/plain": [
       "<Figure size 864x432 with 1 Axes>"
      ]
     },
     "metadata": {
      "image/png": {
       "height": 386,
       "width": 726
      },
      "needs_background": "light"
     },
     "output_type": "display_data"
    }
   ],
   "source": [
    "plt.figure(figsize=(12, 6))\n",
    "plt.plot(metrics_df.max_depth, metrics_df.train_accuracy, marker = 'o', label = 'Train')\n",
    "plt.plot(metrics_df.max_depth, metrics_df.validate_accuracy, marker = 'o', label = 'Validate')\n",
    "plt.title('Overfitting Occurs at Higher Values for Max Depth')\n",
    "plt.xlabel('Max Depth')\n",
    "plt.ylabel('Accuracy')\n",
    "plt.legend()\n",
    "plt.show()"
   ]
  },
  {
   "cell_type": "code",
   "execution_count": 24,
   "id": "184bc363",
   "metadata": {
    "scrolled": true
   },
   "outputs": [
    {
     "data": {
      "text/html": [
       "<div>\n",
       "<style scoped>\n",
       "    .dataframe tbody tr th:only-of-type {\n",
       "        vertical-align: middle;\n",
       "    }\n",
       "\n",
       "    .dataframe tbody tr th {\n",
       "        vertical-align: top;\n",
       "    }\n",
       "\n",
       "    .dataframe thead th {\n",
       "        text-align: right;\n",
       "    }\n",
       "</style>\n",
       "<table border=\"1\" class=\"dataframe\">\n",
       "  <thead>\n",
       "    <tr style=\"text-align: right;\">\n",
       "      <th></th>\n",
       "      <th>max_depth</th>\n",
       "      <th>train_accuracy</th>\n",
       "      <th>validate_accuracy</th>\n",
       "      <th>difference</th>\n",
       "    </tr>\n",
       "  </thead>\n",
       "  <tbody>\n",
       "    <tr>\n",
       "      <th>2</th>\n",
       "      <td>3</td>\n",
       "      <td>0.818352</td>\n",
       "      <td>0.792135</td>\n",
       "      <td>0.026217</td>\n",
       "    </tr>\n",
       "    <tr>\n",
       "      <th>3</th>\n",
       "      <td>4</td>\n",
       "      <td>0.820225</td>\n",
       "      <td>0.792135</td>\n",
       "      <td>0.028090</td>\n",
       "    </tr>\n",
       "    <tr>\n",
       "      <th>0</th>\n",
       "      <td>1</td>\n",
       "      <td>0.792135</td>\n",
       "      <td>0.775281</td>\n",
       "      <td>0.016854</td>\n",
       "    </tr>\n",
       "    <tr>\n",
       "      <th>1</th>\n",
       "      <td>2</td>\n",
       "      <td>0.792135</td>\n",
       "      <td>0.775281</td>\n",
       "      <td>0.016854</td>\n",
       "    </tr>\n",
       "    <tr>\n",
       "      <th>5</th>\n",
       "      <td>6</td>\n",
       "      <td>0.859551</td>\n",
       "      <td>0.775281</td>\n",
       "      <td>0.084270</td>\n",
       "    </tr>\n",
       "    <tr>\n",
       "      <th>6</th>\n",
       "      <td>7</td>\n",
       "      <td>0.865169</td>\n",
       "      <td>0.769663</td>\n",
       "      <td>0.095506</td>\n",
       "    </tr>\n",
       "  </tbody>\n",
       "</table>\n",
       "</div>"
      ],
      "text/plain": [
       "   max_depth  train_accuracy  validate_accuracy  difference\n",
       "2          3        0.818352           0.792135    0.026217\n",
       "3          4        0.820225           0.792135    0.028090\n",
       "0          1        0.792135           0.775281    0.016854\n",
       "1          2        0.792135           0.775281    0.016854\n",
       "5          6        0.859551           0.775281    0.084270\n",
       "6          7        0.865169           0.769663    0.095506"
      ]
     },
     "execution_count": 24,
     "metadata": {},
     "output_type": "execute_result"
    }
   ],
   "source": [
    "metrics_df[metrics_df.difference <= 0.10].sort_values(by=['validate_accuracy', 'difference'], ascending = [False,True])"
   ]
  },
  {
   "cell_type": "markdown",
   "id": "5d85d5ad",
   "metadata": {},
   "source": [
    "**```max_depth```** of **3** has the highest validate accuracy with the lowest difference between validate and train."
   ]
  },
  {
   "cell_type": "markdown",
   "id": "b774ce66",
   "metadata": {},
   "source": [
    "# EXTRA"
   ]
  },
  {
   "cell_type": "markdown",
   "id": "1e639d21",
   "metadata": {},
   "source": [
    "### 1. Work through these same exercises using the Telco dataset."
   ]
  },
  {
   "cell_type": "markdown",
   "id": "42c73bfa",
   "metadata": {},
   "source": [
    "### 2. Experiment with this model on other datasets with a higher number of output classes."
   ]
  },
  {
   "cell_type": "markdown",
   "id": "d5fc7880",
   "metadata": {},
   "source": [
    "<div class=\"alert alert-block alert-warning\">\n",
    "Planning - Acquisition - Preparation - Exploratory Analysis - <font color='red'><b>Modeling</b></font> - Product Delivery\n",
    "</div>"
   ]
  },
  {
   "cell_type": "markdown",
   "id": "294ae4f7",
   "metadata": {},
   "source": [
    "# Random Forest Exercises\n",
    "Continue working in your model file with ```titanic``` data to do the following:"
   ]
  },
  {
   "cell_type": "markdown",
   "id": "32b4f568",
   "metadata": {},
   "source": [
    "## Acquire, Prepare, and Fit\n",
    "* Already conducted during previous exercise above."
   ]
  },
  {
   "cell_type": "code",
   "execution_count": 25,
   "id": "44d04ed5",
   "metadata": {},
   "outputs": [
    {
     "data": {
      "text/html": [
       "<div>\n",
       "<style scoped>\n",
       "    .dataframe tbody tr th:only-of-type {\n",
       "        vertical-align: middle;\n",
       "    }\n",
       "\n",
       "    .dataframe tbody tr th {\n",
       "        vertical-align: top;\n",
       "    }\n",
       "\n",
       "    .dataframe thead th {\n",
       "        text-align: right;\n",
       "    }\n",
       "</style>\n",
       "<table border=\"1\" class=\"dataframe\">\n",
       "  <thead>\n",
       "    <tr style=\"text-align: right;\">\n",
       "      <th></th>\n",
       "      <th>pclass</th>\n",
       "      <th>sibsp</th>\n",
       "      <th>parch</th>\n",
       "      <th>fare</th>\n",
       "      <th>alone</th>\n",
       "      <th>male</th>\n",
       "      <th>Cherbourg</th>\n",
       "      <th>Queenstown</th>\n",
       "      <th>Southampton</th>\n",
       "    </tr>\n",
       "  </thead>\n",
       "  <tbody>\n",
       "    <tr>\n",
       "      <th>455</th>\n",
       "      <td>3</td>\n",
       "      <td>0</td>\n",
       "      <td>0</td>\n",
       "      <td>7.8958</td>\n",
       "      <td>1</td>\n",
       "      <td>1</td>\n",
       "      <td>1</td>\n",
       "      <td>0</td>\n",
       "      <td>0</td>\n",
       "    </tr>\n",
       "    <tr>\n",
       "      <th>380</th>\n",
       "      <td>1</td>\n",
       "      <td>0</td>\n",
       "      <td>0</td>\n",
       "      <td>227.5250</td>\n",
       "      <td>1</td>\n",
       "      <td>0</td>\n",
       "      <td>1</td>\n",
       "      <td>0</td>\n",
       "      <td>0</td>\n",
       "    </tr>\n",
       "    <tr>\n",
       "      <th>492</th>\n",
       "      <td>1</td>\n",
       "      <td>0</td>\n",
       "      <td>0</td>\n",
       "      <td>30.5000</td>\n",
       "      <td>1</td>\n",
       "      <td>1</td>\n",
       "      <td>0</td>\n",
       "      <td>0</td>\n",
       "      <td>1</td>\n",
       "    </tr>\n",
       "    <tr>\n",
       "      <th>55</th>\n",
       "      <td>1</td>\n",
       "      <td>0</td>\n",
       "      <td>0</td>\n",
       "      <td>35.5000</td>\n",
       "      <td>1</td>\n",
       "      <td>1</td>\n",
       "      <td>0</td>\n",
       "      <td>0</td>\n",
       "      <td>1</td>\n",
       "    </tr>\n",
       "    <tr>\n",
       "      <th>243</th>\n",
       "      <td>3</td>\n",
       "      <td>0</td>\n",
       "      <td>0</td>\n",
       "      <td>7.1250</td>\n",
       "      <td>1</td>\n",
       "      <td>1</td>\n",
       "      <td>0</td>\n",
       "      <td>0</td>\n",
       "      <td>1</td>\n",
       "    </tr>\n",
       "  </tbody>\n",
       "</table>\n",
       "</div>"
      ],
      "text/plain": [
       "     pclass  sibsp  parch      fare  alone  male  Cherbourg  Queenstown  \\\n",
       "455       3      0      0    7.8958      1     1          1           0   \n",
       "380       1      0      0  227.5250      1     0          1           0   \n",
       "492       1      0      0   30.5000      1     1          0           0   \n",
       "55        1      0      0   35.5000      1     1          0           0   \n",
       "243       3      0      0    7.1250      1     1          0           0   \n",
       "\n",
       "     Southampton  \n",
       "455            0  \n",
       "380            0  \n",
       "492            1  \n",
       "55             1  \n",
       "243            1  "
      ]
     },
     "execution_count": 25,
     "metadata": {},
     "output_type": "execute_result"
    }
   ],
   "source": [
    "X_train.head()"
   ]
  },
  {
   "cell_type": "code",
   "execution_count": 26,
   "id": "d96fbba2",
   "metadata": {},
   "outputs": [
    {
     "data": {
      "text/plain": [
       "455    1\n",
       "380    1\n",
       "492    0\n",
       "55     1\n",
       "243    0\n",
       "Name: survived, dtype: int64"
      ]
     },
     "execution_count": 26,
     "metadata": {},
     "output_type": "execute_result"
    }
   ],
   "source": [
    "y_train.head()"
   ]
  },
  {
   "cell_type": "markdown",
   "id": "0d55e6ac",
   "metadata": {},
   "source": [
    "### 1. Fit the Random Forest classifier to your training sample and transform (i.e. make predictions on the training sample) setting the random_state accordingly and setting min_samples_leaf = 1 and max_depth = 10."
   ]
  },
  {
   "cell_type": "code",
   "execution_count": 27,
   "id": "4eda4f4b",
   "metadata": {},
   "outputs": [],
   "source": [
    "rf = RandomForestClassifier(min_samples_leaf=1,\n",
    "                            max_depth=10,\n",
    "                            random_state=1992)"
   ]
  },
  {
   "cell_type": "code",
   "execution_count": 28,
   "id": "3eab2302",
   "metadata": {},
   "outputs": [
    {
     "data": {
      "text/plain": [
       "RandomForestClassifier(max_depth=10, random_state=1992)"
      ]
     },
     "execution_count": 28,
     "metadata": {},
     "output_type": "execute_result"
    }
   ],
   "source": [
    "rf.fit(X_train, y_train)"
   ]
  },
  {
   "cell_type": "code",
   "execution_count": 29,
   "id": "c2605af4",
   "metadata": {},
   "outputs": [],
   "source": [
    "y_preds = rf.predict(X_train)"
   ]
  },
  {
   "cell_type": "markdown",
   "id": "4ae6ba97",
   "metadata": {},
   "source": [
    "### 2. Evaluate your results using the model score, confusion matrix, and classification report."
   ]
  },
  {
   "cell_type": "code",
   "execution_count": 30,
   "id": "9ccbba5c",
   "metadata": {},
   "outputs": [
    {
     "data": {
      "text/plain": [
       "0.9419475655430711"
      ]
     },
     "execution_count": 30,
     "metadata": {},
     "output_type": "execute_result"
    }
   ],
   "source": [
    "rf.score(X_train, y_train)"
   ]
  },
  {
   "cell_type": "code",
   "execution_count": 31,
   "id": "732d56e0",
   "metadata": {
    "scrolled": true
   },
   "outputs": [
    {
     "name": "stdout",
     "output_type": "stream",
     "text": [
      "[[323   6]\n",
      " [ 25 180]]\n",
      "\n",
      "              precision    recall  f1-score   support\n",
      "\n",
      "           0       0.93      0.98      0.95       329\n",
      "           1       0.97      0.88      0.92       205\n",
      "\n",
      "    accuracy                           0.94       534\n",
      "   macro avg       0.95      0.93      0.94       534\n",
      "weighted avg       0.94      0.94      0.94       534\n",
      "\n"
     ]
    }
   ],
   "source": [
    "print(confusion_matrix(y_train, y_preds))\n",
    "print()\n",
    "print(classification_report(y_train, y_preds))"
   ]
  },
  {
   "cell_type": "markdown",
   "id": "3b71e8df",
   "metadata": {},
   "source": [
    "### 3. Print and clearly label the following: Accuracy, true positive rate, false positive rate, true negative rate, false negative rate, precision, recall, f1-score, and support."
   ]
  },
  {
   "cell_type": "code",
   "execution_count": 32,
   "id": "6b2573ae",
   "metadata": {},
   "outputs": [
    {
     "name": "stdout",
     "output_type": "stream",
     "text": [
      "Accuracy: 0.9419475655430711\n",
      "True Positive Rate: 0.8780487804878049\n",
      "False Positive Rate: 0.0182370820668693\n",
      "True Negative Rate: 0.9817629179331308\n",
      "False Negative Rate: 0.12195121951219512\n",
      "Precision: 0.967741935483871\n",
      "Recall: 0.8780487804878049\n",
      "F1 Score: 0.9207161125319694\n",
      "Support (0): 205\n",
      "Support (1): 329\n"
     ]
    }
   ],
   "source": [
    "evaluate.print_class_metrics(y_train, y_preds)"
   ]
  },
  {
   "cell_type": "markdown",
   "id": "e0bda029",
   "metadata": {},
   "source": [
    "### 4. Run through steps increasing your min_samples_leaf and decreasing your max_depth."
   ]
  },
  {
   "cell_type": "code",
   "execution_count": 33,
   "id": "fe0a56e7",
   "metadata": {},
   "outputs": [
    {
     "data": {
      "text/plain": [
       "455    1\n",
       "380    1\n",
       "492    0\n",
       "55     1\n",
       "243    0\n",
       "      ..\n",
       "695    0\n",
       "128    1\n",
       "636    0\n",
       "222    0\n",
       "496    1\n",
       "Name: survived, Length: 534, dtype: int64"
      ]
     },
     "execution_count": 33,
     "metadata": {},
     "output_type": "execute_result"
    }
   ],
   "source": [
    "# y_train is a Series\n",
    "y_train"
   ]
  },
  {
   "cell_type": "code",
   "execution_count": 34,
   "id": "2fc5fd21",
   "metadata": {},
   "outputs": [
    {
     "data": {
      "text/plain": [
       "Index(['pclass', 'sibsp', 'parch', 'fare', 'alone', 'male', 'Cherbourg',\n",
       "       'Queenstown', 'Southampton'],\n",
       "      dtype='object')"
      ]
     },
     "execution_count": 34,
     "metadata": {},
     "output_type": "execute_result"
    }
   ],
   "source": [
    "X_train.columns"
   ]
  },
  {
   "cell_type": "code",
   "execution_count": 35,
   "id": "3fc2fe4a",
   "metadata": {},
   "outputs": [
    {
     "data": {
      "text/plain": [
       "'survived'"
      ]
     },
     "execution_count": 35,
     "metadata": {},
     "output_type": "execute_result"
    }
   ],
   "source": [
    "# .columns will not work on Series\n",
    "y_train.name"
   ]
  },
  {
   "cell_type": "code",
   "execution_count": 36,
   "id": "0b7ae71d",
   "metadata": {},
   "outputs": [],
   "source": [
    "# Create DF from Series \n",
    "y_train = pd.DataFrame(y_train)"
   ]
  },
  {
   "cell_type": "code",
   "execution_count": 37,
   "id": "441abf55",
   "metadata": {
    "scrolled": true
   },
   "outputs": [
    {
     "data": {
      "text/plain": [
       "Index(['survived'], dtype='object')"
      ]
     },
     "execution_count": 37,
     "metadata": {},
     "output_type": "execute_result"
    }
   ],
   "source": [
    "# Now .columns will work\n",
    "y_train.columns"
   ]
  },
  {
   "cell_type": "code",
   "execution_count": 38,
   "id": "1a5ce60a",
   "metadata": {},
   "outputs": [],
   "source": [
    "# Must ensure y_train is read in as DataFrame\n",
    "\n",
    "model_prediction = y_train.copy()\n",
    "\n",
    "for i in range(1, 6):\n",
    "    for j in range(10, 5, -1):\n",
    "        rf = RandomForestClassifier(min_samples_leaf=i,\n",
    "                                    max_depth=j,\n",
    "                                    random_state=1992)\n",
    "        \n",
    "        rf.fit(X_train, y_train)\n",
    "        \n",
    "        curr_preds = rf.predict(X_train)\n",
    "        \n",
    "        model_prediction[f'msl_{i}_md_{j}'] = curr_preds"
   ]
  },
  {
   "cell_type": "code",
   "execution_count": 39,
   "id": "aab8cf27",
   "metadata": {
    "scrolled": true
   },
   "outputs": [
    {
     "data": {
      "text/html": [
       "<div>\n",
       "<style scoped>\n",
       "    .dataframe tbody tr th:only-of-type {\n",
       "        vertical-align: middle;\n",
       "    }\n",
       "\n",
       "    .dataframe tbody tr th {\n",
       "        vertical-align: top;\n",
       "    }\n",
       "\n",
       "    .dataframe thead th {\n",
       "        text-align: right;\n",
       "    }\n",
       "</style>\n",
       "<table border=\"1\" class=\"dataframe\">\n",
       "  <thead>\n",
       "    <tr style=\"text-align: right;\">\n",
       "      <th></th>\n",
       "      <th>survived</th>\n",
       "      <th>msl_1_md_10</th>\n",
       "      <th>msl_1_md_9</th>\n",
       "      <th>msl_1_md_8</th>\n",
       "      <th>msl_1_md_7</th>\n",
       "      <th>msl_1_md_6</th>\n",
       "      <th>msl_2_md_10</th>\n",
       "      <th>msl_2_md_9</th>\n",
       "      <th>msl_2_md_8</th>\n",
       "      <th>msl_2_md_7</th>\n",
       "      <th>...</th>\n",
       "      <th>msl_4_md_10</th>\n",
       "      <th>msl_4_md_9</th>\n",
       "      <th>msl_4_md_8</th>\n",
       "      <th>msl_4_md_7</th>\n",
       "      <th>msl_4_md_6</th>\n",
       "      <th>msl_5_md_10</th>\n",
       "      <th>msl_5_md_9</th>\n",
       "      <th>msl_5_md_8</th>\n",
       "      <th>msl_5_md_7</th>\n",
       "      <th>msl_5_md_6</th>\n",
       "    </tr>\n",
       "  </thead>\n",
       "  <tbody>\n",
       "    <tr>\n",
       "      <th>455</th>\n",
       "      <td>1</td>\n",
       "      <td>0</td>\n",
       "      <td>0</td>\n",
       "      <td>0</td>\n",
       "      <td>0</td>\n",
       "      <td>0</td>\n",
       "      <td>0</td>\n",
       "      <td>0</td>\n",
       "      <td>0</td>\n",
       "      <td>0</td>\n",
       "      <td>...</td>\n",
       "      <td>0</td>\n",
       "      <td>0</td>\n",
       "      <td>0</td>\n",
       "      <td>0</td>\n",
       "      <td>0</td>\n",
       "      <td>0</td>\n",
       "      <td>0</td>\n",
       "      <td>0</td>\n",
       "      <td>0</td>\n",
       "      <td>0</td>\n",
       "    </tr>\n",
       "    <tr>\n",
       "      <th>380</th>\n",
       "      <td>1</td>\n",
       "      <td>1</td>\n",
       "      <td>1</td>\n",
       "      <td>1</td>\n",
       "      <td>1</td>\n",
       "      <td>1</td>\n",
       "      <td>1</td>\n",
       "      <td>1</td>\n",
       "      <td>1</td>\n",
       "      <td>1</td>\n",
       "      <td>...</td>\n",
       "      <td>1</td>\n",
       "      <td>1</td>\n",
       "      <td>1</td>\n",
       "      <td>1</td>\n",
       "      <td>1</td>\n",
       "      <td>1</td>\n",
       "      <td>1</td>\n",
       "      <td>1</td>\n",
       "      <td>1</td>\n",
       "      <td>1</td>\n",
       "    </tr>\n",
       "    <tr>\n",
       "      <th>492</th>\n",
       "      <td>0</td>\n",
       "      <td>1</td>\n",
       "      <td>0</td>\n",
       "      <td>0</td>\n",
       "      <td>0</td>\n",
       "      <td>0</td>\n",
       "      <td>0</td>\n",
       "      <td>0</td>\n",
       "      <td>0</td>\n",
       "      <td>0</td>\n",
       "      <td>...</td>\n",
       "      <td>0</td>\n",
       "      <td>0</td>\n",
       "      <td>0</td>\n",
       "      <td>0</td>\n",
       "      <td>0</td>\n",
       "      <td>0</td>\n",
       "      <td>0</td>\n",
       "      <td>0</td>\n",
       "      <td>0</td>\n",
       "      <td>0</td>\n",
       "    </tr>\n",
       "    <tr>\n",
       "      <th>55</th>\n",
       "      <td>1</td>\n",
       "      <td>1</td>\n",
       "      <td>1</td>\n",
       "      <td>1</td>\n",
       "      <td>0</td>\n",
       "      <td>0</td>\n",
       "      <td>1</td>\n",
       "      <td>1</td>\n",
       "      <td>0</td>\n",
       "      <td>0</td>\n",
       "      <td>...</td>\n",
       "      <td>0</td>\n",
       "      <td>0</td>\n",
       "      <td>0</td>\n",
       "      <td>0</td>\n",
       "      <td>0</td>\n",
       "      <td>0</td>\n",
       "      <td>0</td>\n",
       "      <td>0</td>\n",
       "      <td>0</td>\n",
       "      <td>0</td>\n",
       "    </tr>\n",
       "    <tr>\n",
       "      <th>243</th>\n",
       "      <td>0</td>\n",
       "      <td>0</td>\n",
       "      <td>0</td>\n",
       "      <td>0</td>\n",
       "      <td>0</td>\n",
       "      <td>0</td>\n",
       "      <td>0</td>\n",
       "      <td>0</td>\n",
       "      <td>0</td>\n",
       "      <td>0</td>\n",
       "      <td>...</td>\n",
       "      <td>0</td>\n",
       "      <td>0</td>\n",
       "      <td>0</td>\n",
       "      <td>0</td>\n",
       "      <td>0</td>\n",
       "      <td>0</td>\n",
       "      <td>0</td>\n",
       "      <td>0</td>\n",
       "      <td>0</td>\n",
       "      <td>0</td>\n",
       "    </tr>\n",
       "    <tr>\n",
       "      <th>...</th>\n",
       "      <td>...</td>\n",
       "      <td>...</td>\n",
       "      <td>...</td>\n",
       "      <td>...</td>\n",
       "      <td>...</td>\n",
       "      <td>...</td>\n",
       "      <td>...</td>\n",
       "      <td>...</td>\n",
       "      <td>...</td>\n",
       "      <td>...</td>\n",
       "      <td>...</td>\n",
       "      <td>...</td>\n",
       "      <td>...</td>\n",
       "      <td>...</td>\n",
       "      <td>...</td>\n",
       "      <td>...</td>\n",
       "      <td>...</td>\n",
       "      <td>...</td>\n",
       "      <td>...</td>\n",
       "      <td>...</td>\n",
       "      <td>...</td>\n",
       "    </tr>\n",
       "    <tr>\n",
       "      <th>695</th>\n",
       "      <td>0</td>\n",
       "      <td>0</td>\n",
       "      <td>0</td>\n",
       "      <td>0</td>\n",
       "      <td>0</td>\n",
       "      <td>0</td>\n",
       "      <td>0</td>\n",
       "      <td>0</td>\n",
       "      <td>0</td>\n",
       "      <td>0</td>\n",
       "      <td>...</td>\n",
       "      <td>0</td>\n",
       "      <td>0</td>\n",
       "      <td>0</td>\n",
       "      <td>0</td>\n",
       "      <td>0</td>\n",
       "      <td>0</td>\n",
       "      <td>0</td>\n",
       "      <td>0</td>\n",
       "      <td>0</td>\n",
       "      <td>0</td>\n",
       "    </tr>\n",
       "    <tr>\n",
       "      <th>128</th>\n",
       "      <td>1</td>\n",
       "      <td>1</td>\n",
       "      <td>1</td>\n",
       "      <td>1</td>\n",
       "      <td>1</td>\n",
       "      <td>1</td>\n",
       "      <td>1</td>\n",
       "      <td>1</td>\n",
       "      <td>1</td>\n",
       "      <td>1</td>\n",
       "      <td>...</td>\n",
       "      <td>1</td>\n",
       "      <td>1</td>\n",
       "      <td>1</td>\n",
       "      <td>1</td>\n",
       "      <td>1</td>\n",
       "      <td>1</td>\n",
       "      <td>1</td>\n",
       "      <td>1</td>\n",
       "      <td>1</td>\n",
       "      <td>1</td>\n",
       "    </tr>\n",
       "    <tr>\n",
       "      <th>636</th>\n",
       "      <td>0</td>\n",
       "      <td>0</td>\n",
       "      <td>0</td>\n",
       "      <td>0</td>\n",
       "      <td>0</td>\n",
       "      <td>0</td>\n",
       "      <td>0</td>\n",
       "      <td>0</td>\n",
       "      <td>0</td>\n",
       "      <td>0</td>\n",
       "      <td>...</td>\n",
       "      <td>0</td>\n",
       "      <td>0</td>\n",
       "      <td>0</td>\n",
       "      <td>0</td>\n",
       "      <td>0</td>\n",
       "      <td>0</td>\n",
       "      <td>0</td>\n",
       "      <td>0</td>\n",
       "      <td>0</td>\n",
       "      <td>0</td>\n",
       "    </tr>\n",
       "    <tr>\n",
       "      <th>222</th>\n",
       "      <td>0</td>\n",
       "      <td>0</td>\n",
       "      <td>0</td>\n",
       "      <td>0</td>\n",
       "      <td>0</td>\n",
       "      <td>0</td>\n",
       "      <td>0</td>\n",
       "      <td>0</td>\n",
       "      <td>0</td>\n",
       "      <td>0</td>\n",
       "      <td>...</td>\n",
       "      <td>0</td>\n",
       "      <td>0</td>\n",
       "      <td>0</td>\n",
       "      <td>0</td>\n",
       "      <td>0</td>\n",
       "      <td>0</td>\n",
       "      <td>0</td>\n",
       "      <td>0</td>\n",
       "      <td>0</td>\n",
       "      <td>0</td>\n",
       "    </tr>\n",
       "    <tr>\n",
       "      <th>496</th>\n",
       "      <td>1</td>\n",
       "      <td>1</td>\n",
       "      <td>1</td>\n",
       "      <td>1</td>\n",
       "      <td>1</td>\n",
       "      <td>1</td>\n",
       "      <td>1</td>\n",
       "      <td>1</td>\n",
       "      <td>1</td>\n",
       "      <td>1</td>\n",
       "      <td>...</td>\n",
       "      <td>1</td>\n",
       "      <td>1</td>\n",
       "      <td>1</td>\n",
       "      <td>1</td>\n",
       "      <td>1</td>\n",
       "      <td>1</td>\n",
       "      <td>1</td>\n",
       "      <td>1</td>\n",
       "      <td>1</td>\n",
       "      <td>1</td>\n",
       "    </tr>\n",
       "  </tbody>\n",
       "</table>\n",
       "<p>534 rows × 26 columns</p>\n",
       "</div>"
      ],
      "text/plain": [
       "     survived  msl_1_md_10  msl_1_md_9  msl_1_md_8  msl_1_md_7  msl_1_md_6  \\\n",
       "455         1            0           0           0           0           0   \n",
       "380         1            1           1           1           1           1   \n",
       "492         0            1           0           0           0           0   \n",
       "55          1            1           1           1           0           0   \n",
       "243         0            0           0           0           0           0   \n",
       "..        ...          ...         ...         ...         ...         ...   \n",
       "695         0            0           0           0           0           0   \n",
       "128         1            1           1           1           1           1   \n",
       "636         0            0           0           0           0           0   \n",
       "222         0            0           0           0           0           0   \n",
       "496         1            1           1           1           1           1   \n",
       "\n",
       "     msl_2_md_10  msl_2_md_9  msl_2_md_8  msl_2_md_7  ...  msl_4_md_10  \\\n",
       "455            0           0           0           0  ...            0   \n",
       "380            1           1           1           1  ...            1   \n",
       "492            0           0           0           0  ...            0   \n",
       "55             1           1           0           0  ...            0   \n",
       "243            0           0           0           0  ...            0   \n",
       "..           ...         ...         ...         ...  ...          ...   \n",
       "695            0           0           0           0  ...            0   \n",
       "128            1           1           1           1  ...            1   \n",
       "636            0           0           0           0  ...            0   \n",
       "222            0           0           0           0  ...            0   \n",
       "496            1           1           1           1  ...            1   \n",
       "\n",
       "     msl_4_md_9  msl_4_md_8  msl_4_md_7  msl_4_md_6  msl_5_md_10  msl_5_md_9  \\\n",
       "455           0           0           0           0            0           0   \n",
       "380           1           1           1           1            1           1   \n",
       "492           0           0           0           0            0           0   \n",
       "55            0           0           0           0            0           0   \n",
       "243           0           0           0           0            0           0   \n",
       "..          ...         ...         ...         ...          ...         ...   \n",
       "695           0           0           0           0            0           0   \n",
       "128           1           1           1           1            1           1   \n",
       "636           0           0           0           0            0           0   \n",
       "222           0           0           0           0            0           0   \n",
       "496           1           1           1           1            1           1   \n",
       "\n",
       "     msl_5_md_8  msl_5_md_7  msl_5_md_6  \n",
       "455           0           0           0  \n",
       "380           1           1           1  \n",
       "492           0           0           0  \n",
       "55            0           0           0  \n",
       "243           0           0           0  \n",
       "..          ...         ...         ...  \n",
       "695           0           0           0  \n",
       "128           1           1           1  \n",
       "636           0           0           0  \n",
       "222           0           0           0  \n",
       "496           1           1           1  \n",
       "\n",
       "[534 rows x 26 columns]"
      ]
     },
     "execution_count": 39,
     "metadata": {},
     "output_type": "execute_result"
    }
   ],
   "source": [
    "model_prediction"
   ]
  },
  {
   "cell_type": "markdown",
   "id": "2c14aa3a",
   "metadata": {},
   "source": [
    "### 5. What are the differences in the evaluation metrics? Which performs better on your in-sample data? Why?"
   ]
  },
  {
   "cell_type": "code",
   "execution_count": 40,
   "id": "05155780",
   "metadata": {},
   "outputs": [
    {
     "name": "stdout",
     "output_type": "stream",
     "text": [
      "msl_1_md_10 accuracy: 0.9419475655430711\n",
      "msl_1_md_9 accuracy: 0.9400749063670412\n",
      "msl_1_md_8 accuracy: 0.9307116104868914\n",
      "msl_1_md_7 accuracy: 0.9044943820224719\n",
      "msl_1_md_6 accuracy: 0.8745318352059925\n",
      "msl_2_md_10 accuracy: 0.8951310861423221\n",
      "msl_2_md_9 accuracy: 0.898876404494382\n",
      "msl_2_md_8 accuracy: 0.8876404494382022\n",
      "msl_2_md_7 accuracy: 0.8801498127340824\n",
      "msl_2_md_6 accuracy: 0.8782771535580525\n",
      "msl_3_md_10 accuracy: 0.8745318352059925\n",
      "msl_3_md_9 accuracy: 0.8782771535580525\n",
      "msl_3_md_8 accuracy: 0.8782771535580525\n",
      "msl_3_md_7 accuracy: 0.8782771535580525\n",
      "msl_3_md_6 accuracy: 0.8595505617977528\n",
      "msl_4_md_10 accuracy: 0.8745318352059925\n",
      "msl_4_md_9 accuracy: 0.8689138576779026\n",
      "msl_4_md_8 accuracy: 0.8707865168539326\n",
      "msl_4_md_7 accuracy: 0.8707865168539326\n",
      "msl_4_md_6 accuracy: 0.8614232209737828\n",
      "msl_5_md_10 accuracy: 0.8520599250936329\n",
      "msl_5_md_9 accuracy: 0.8520599250936329\n",
      "msl_5_md_8 accuracy: 0.8539325842696629\n",
      "msl_5_md_7 accuracy: 0.8632958801498127\n",
      "msl_5_md_6 accuracy: 0.846441947565543\n"
     ]
    }
   ],
   "source": [
    "# Must ensure y_train is read in as DataFrame\n",
    "\n",
    "actuals = model_prediction.survived\n",
    "preds = model_prediction.drop(columns = 'survived')\n",
    "\n",
    "for column in preds.columns:\n",
    "    \n",
    "    accuracy = (actuals == preds[column]).mean()\n",
    "    \n",
    "    print(f'{column} accuracy: {accuracy}')"
   ]
  },
  {
   "cell_type": "markdown",
   "id": "5bf5b8b5",
   "metadata": {},
   "source": [
    "minimum_sample_leaf of 1 and max_depth of 10 provide the highest Accuracy\n",
    "\n",
    "\n",
    "msl_1_md_10 accuracy: 0.9419475655430711\n",
    "msl_1_md_9 accuracy: 0.9400749063670412"
   ]
  },
  {
   "cell_type": "code",
   "execution_count": 41,
   "id": "b54d4339",
   "metadata": {},
   "outputs": [
    {
     "name": "stdout",
     "output_type": "stream",
     "text": [
      "Accuracy of random forest classifier on training set: 0.85\n"
     ]
    }
   ],
   "source": [
    "print('Accuracy of random forest classifier on training set: {:.2f}'\n",
    "     .format(rf.score(X_train, y_train)))"
   ]
  },
  {
   "cell_type": "code",
   "execution_count": 42,
   "id": "7d80a57d",
   "metadata": {},
   "outputs": [
    {
     "name": "stdout",
     "output_type": "stream",
     "text": [
      "Accuracy of random forest classifier on validate set: 0.80\n"
     ]
    }
   ],
   "source": [
    "print('Accuracy of random forest classifier on validate set: {:.2f}'\n",
    "     .format(rf.score(X_validate, y_validate)))"
   ]
  },
  {
   "cell_type": "markdown",
   "id": "c46a34b8",
   "metadata": {},
   "source": [
    "### After making a few models, which one has the best performance (or closest metrics) on both train and validate?"
   ]
  },
  {
   "cell_type": "code",
   "execution_count": null,
   "id": "5188046f",
   "metadata": {},
   "outputs": [],
   "source": []
  },
  {
   "cell_type": "markdown",
   "id": "bf77ec67",
   "metadata": {},
   "source": [
    "<div class=\"alert alert-block alert-warning\">\n",
    "Planning - Acquisition - Preparation - Exploratory Analysis - <font color='red'><b>Modeling</b></font> - Product Delivery\n",
    "</div>"
   ]
  },
  {
   "cell_type": "markdown",
   "id": "f3edd513",
   "metadata": {},
   "source": [
    "# KNN Exercises\n",
    "Continue working in your model file with the titanic dataset."
   ]
  },
  {
   "cell_type": "markdown",
   "id": "4d6a21b6",
   "metadata": {},
   "source": [
    "### 1. Fit a K-Nearest Neighbors classifier to your training sample and transform (i.e. make predictions on the training sample)"
   ]
  },
  {
   "cell_type": "code",
   "execution_count": 67,
   "id": "8ed6a207",
   "metadata": {},
   "outputs": [],
   "source": [
    "knn = KNeighborsClassifier()\n",
    "knn.fit(X_train, y_train)\n",
    "y_preds = knn.predict(X_train)"
   ]
  },
  {
   "cell_type": "markdown",
   "id": "5a637066",
   "metadata": {},
   "source": [
    "### 2. Evaluate your results using the model score, confusion matrix, and classification report."
   ]
  },
  {
   "cell_type": "code",
   "execution_count": 46,
   "id": "2f41a448",
   "metadata": {},
   "outputs": [
    {
     "name": "stdout",
     "output_type": "stream",
     "text": [
      "Accuracy of KNN classifier on training set: 0.82\n"
     ]
    }
   ],
   "source": [
    "print('Accuracy of KNN classifier on training set: {:.2f}'\n",
    "     .format(knn.score(X_train, y_train)))"
   ]
  },
  {
   "cell_type": "code",
   "execution_count": 47,
   "id": "8d14756d",
   "metadata": {},
   "outputs": [
    {
     "name": "stdout",
     "output_type": "stream",
     "text": [
      "sklearn Confusion Matrix: (prediction_col, actual_row)\n",
      "                          (Negative_first, Positive_second)\n",
      "[[282  47]\n",
      " [ 50 155]]\n",
      "                       :--------------------------------------:\n",
      "                       | pred Negative(-) | pred Positive (+) |\n",
      " :---------------------:------------------:-------------------:\n",
      " | actual Negative (-) |        TN        |    FP (Type I)    |\n",
      " :---------------------:------------------:-------------------:\n",
      " | actual Positive (+) |   FN (Type II)   |         TP        |\n",
      " :---------------------:------------------:-------------------:\n",
      "\n",
      "              precision    recall  f1-score   support\n",
      "\n",
      "           0       0.85      0.86      0.85       329\n",
      "           1       0.77      0.76      0.76       205\n",
      "\n",
      "    accuracy                           0.82       534\n",
      "   macro avg       0.81      0.81      0.81       534\n",
      "weighted avg       0.82      0.82      0.82       534\n",
      "\n"
     ]
    }
   ],
   "source": [
    "evaluate.print_confusion_matrix(y_train, y_preds)"
   ]
  },
  {
   "cell_type": "markdown",
   "id": "db11f551",
   "metadata": {},
   "source": [
    "### 3. Print and clearly label the following: Accuracy, true positive rate, false positive rate, true negative rate, false negative rate, precision, recall, f1-score, and support."
   ]
  },
  {
   "cell_type": "code",
   "execution_count": 48,
   "id": "17660b56",
   "metadata": {},
   "outputs": [
    {
     "name": "stdout",
     "output_type": "stream",
     "text": [
      "Accuracy: 0.8183520599250936\n",
      "True Positive Rate: 0.7560975609756098\n",
      "False Positive Rate: 0.14285714285714285\n",
      "True Negative Rate: 0.8571428571428571\n",
      "False Negative Rate: 0.24390243902439024\n",
      "Precision: 0.7673267326732673\n",
      "Recall: 0.7560975609756098\n",
      "F1 Score: 0.7616707616707618\n",
      "Support (0): 205\n",
      "Support (1): 329\n"
     ]
    }
   ],
   "source": [
    "evaluate.print_class_metrics(y_train, y_preds)"
   ]
  },
  {
   "cell_type": "markdown",
   "id": "6e3cc2ee",
   "metadata": {},
   "source": [
    "### 4. Run through steps 2-4 setting k to 10"
   ]
  },
  {
   "cell_type": "code",
   "execution_count": 49,
   "id": "017f6391",
   "metadata": {},
   "outputs": [],
   "source": [
    "knn = KNeighborsClassifier(n_neighbors=10)\n",
    "knn.fit(X_train, y_train)\n",
    "y_preds = knn.predict(X_train)"
   ]
  },
  {
   "cell_type": "code",
   "execution_count": 52,
   "id": "c159c8a6",
   "metadata": {},
   "outputs": [
    {
     "name": "stdout",
     "output_type": "stream",
     "text": [
      "Accuracy of KNN classifier on training set: 0.78\n"
     ]
    }
   ],
   "source": [
    "print('Accuracy of KNN classifier on training set: {:.2f}'\n",
    "     .format(knn.score(X_train, y_train)))"
   ]
  },
  {
   "cell_type": "code",
   "execution_count": 53,
   "id": "d7573269",
   "metadata": {},
   "outputs": [
    {
     "name": "stdout",
     "output_type": "stream",
     "text": [
      "sklearn Confusion Matrix: (prediction_col, actual_row)\n",
      "                          (Negative_first, Positive_second)\n",
      "[[287  42]\n",
      " [ 76 129]]\n",
      "                       :--------------------------------------:\n",
      "                       | pred Negative(-) | pred Positive (+) |\n",
      " :---------------------:------------------:-------------------:\n",
      " | actual Negative (-) |        TN        |    FP (Type I)    |\n",
      " :---------------------:------------------:-------------------:\n",
      " | actual Positive (+) |   FN (Type II)   |         TP        |\n",
      " :---------------------:------------------:-------------------:\n",
      "\n",
      "              precision    recall  f1-score   support\n",
      "\n",
      "           0       0.79      0.87      0.83       329\n",
      "           1       0.75      0.63      0.69       205\n",
      "\n",
      "    accuracy                           0.78       534\n",
      "   macro avg       0.77      0.75      0.76       534\n",
      "weighted avg       0.78      0.78      0.77       534\n",
      "\n"
     ]
    }
   ],
   "source": [
    "evaluate.print_confusion_matrix(y_train, y_preds)"
   ]
  },
  {
   "cell_type": "code",
   "execution_count": 54,
   "id": "5dc5aec5",
   "metadata": {},
   "outputs": [
    {
     "name": "stdout",
     "output_type": "stream",
     "text": [
      "Accuracy: 0.7790262172284644\n",
      "True Positive Rate: 0.6292682926829268\n",
      "False Positive Rate: 0.1276595744680851\n",
      "True Negative Rate: 0.8723404255319149\n",
      "False Negative Rate: 0.37073170731707317\n",
      "Precision: 0.7543859649122807\n",
      "Recall: 0.6292682926829268\n",
      "F1 Score: 0.6861702127659575\n",
      "Support (0): 205\n",
      "Support (1): 329\n"
     ]
    }
   ],
   "source": [
    "evaluate.print_class_metrics(y_train, y_preds)"
   ]
  },
  {
   "cell_type": "markdown",
   "id": "5f05dbf9",
   "metadata": {},
   "source": [
    "### 5. Run through steps 2-4 setting k to 20"
   ]
  },
  {
   "cell_type": "code",
   "execution_count": 55,
   "id": "0339ac95",
   "metadata": {},
   "outputs": [],
   "source": [
    "knn = KNeighborsClassifier(n_neighbors=20)\n",
    "knn.fit(X_train, y_train)\n",
    "y_preds = knn.predict(X_train)"
   ]
  },
  {
   "cell_type": "code",
   "execution_count": 58,
   "id": "930369a7",
   "metadata": {},
   "outputs": [
    {
     "name": "stdout",
     "output_type": "stream",
     "text": [
      "Accuracy of KNN classifier on training set: 0.74\n"
     ]
    }
   ],
   "source": [
    "print('Accuracy of KNN classifier on training set: {:.2f}'\n",
    "     .format(knn.score(X_train, y_train)))"
   ]
  },
  {
   "cell_type": "code",
   "execution_count": 59,
   "id": "1a261905",
   "metadata": {
    "scrolled": true
   },
   "outputs": [
    {
     "name": "stdout",
     "output_type": "stream",
     "text": [
      "sklearn Confusion Matrix: (prediction_col, actual_row)\n",
      "                          (Negative_first, Positive_second)\n",
      "[[287  42]\n",
      " [ 96 109]]\n",
      "                       :--------------------------------------:\n",
      "                       | pred Negative(-) | pred Positive (+) |\n",
      " :---------------------:------------------:-------------------:\n",
      " | actual Negative (-) |        TN        |    FP (Type I)    |\n",
      " :---------------------:------------------:-------------------:\n",
      " | actual Positive (+) |   FN (Type II)   |         TP        |\n",
      " :---------------------:------------------:-------------------:\n",
      "\n",
      "              precision    recall  f1-score   support\n",
      "\n",
      "           0       0.75      0.87      0.81       329\n",
      "           1       0.72      0.53      0.61       205\n",
      "\n",
      "    accuracy                           0.74       534\n",
      "   macro avg       0.74      0.70      0.71       534\n",
      "weighted avg       0.74      0.74      0.73       534\n",
      "\n"
     ]
    }
   ],
   "source": [
    "evaluate.print_confusion_matrix(y_train, y_preds)"
   ]
  },
  {
   "cell_type": "code",
   "execution_count": 60,
   "id": "221ba4e6",
   "metadata": {
    "scrolled": true
   },
   "outputs": [
    {
     "name": "stdout",
     "output_type": "stream",
     "text": [
      "Accuracy: 0.7415730337078652\n",
      "True Positive Rate: 0.5317073170731708\n",
      "False Positive Rate: 0.1276595744680851\n",
      "True Negative Rate: 0.8723404255319149\n",
      "False Negative Rate: 0.4682926829268293\n",
      "Precision: 0.7218543046357616\n",
      "Recall: 0.5317073170731708\n",
      "F1 Score: 0.6123595505617979\n",
      "Support (0): 205\n",
      "Support (1): 329\n"
     ]
    }
   ],
   "source": [
    "evaluate.print_class_metrics(y_train, y_preds)"
   ]
  },
  {
   "cell_type": "markdown",
   "id": "fd639f93",
   "metadata": {},
   "source": [
    "### 6. What are the differences in the evaluation metrics? Which performs better on your in-sample data? Why?"
   ]
  },
  {
   "cell_type": "code",
   "execution_count": 61,
   "id": "59cb9a71",
   "metadata": {},
   "outputs": [],
   "source": [
    "preds_dict = {'model': [],\n",
    "              'accuracy': [],\n",
    "              'true_positive_rate': [],\n",
    "              'false_positive_rate': [],\n",
    "              'true_negative_rate': [],\n",
    "              'false_negative_rate': [],\n",
    "              'precision': [],\n",
    "              'recall': [],\n",
    "              'f1_score': [],\n",
    "              'support_0': [],\n",
    "              'support_1': []}\n",
    "\n",
    "for n in [5, 10, 20]:\n",
    "    knn = KNeighborsClassifier(n_neighbors = n)\n",
    "    \n",
    "    knn.fit(X_train, y_train)\n",
    "    \n",
    "    y_preds = knn.predict(X_train)\n",
    "    \n",
    "    TN, FP, FN, TP = confusion_matrix(y_train, y_preds).ravel()\n",
    "    ALL = TP + TN + FP + FN\n",
    "    \n",
    "    accuracy = (TP + TN)/ALL\n",
    "    true_positive_rate = TP/(TP+FN)\n",
    "    false_positive_rate = FP/(FP+TN)\n",
    "    true_negative_rate = TN/(TN+FP)\n",
    "    false_negative_rate = FN/(FN+TP)\n",
    "    precision = TP/(TP+FP)\n",
    "    recall = TP/(TP+FN)\n",
    "    f1_score = 2*(precision*recall)/(precision+recall)\n",
    "    support_pos = TP + FN\n",
    "    support_neg = FP + TN\n",
    "    \n",
    "    preds_dict['model'].append(f'knn_n_{n}')\n",
    "    preds_dict['accuracy'].append(accuracy)\n",
    "    preds_dict['true_positive_rate'].append(true_positive_rate)\n",
    "    preds_dict['false_positive_rate'].append(false_positive_rate)\n",
    "    preds_dict['true_negative_rate'].append(true_negative_rate)\n",
    "    preds_dict['false_negative_rate'].append(false_negative_rate)\n",
    "    preds_dict['precision'].append(precision)\n",
    "    preds_dict['recall'].append(recall)\n",
    "    preds_dict['f1_score'].append(f1_score)\n",
    "    preds_dict['support_0'].append(support_pos)\n",
    "    preds_dict['support_1'].append(support_neg)"
   ]
  },
  {
   "cell_type": "code",
   "execution_count": 62,
   "id": "e10c2c7f",
   "metadata": {},
   "outputs": [
    {
     "data": {
      "text/html": [
       "<div>\n",
       "<style scoped>\n",
       "    .dataframe tbody tr th:only-of-type {\n",
       "        vertical-align: middle;\n",
       "    }\n",
       "\n",
       "    .dataframe tbody tr th {\n",
       "        vertical-align: top;\n",
       "    }\n",
       "\n",
       "    .dataframe thead th {\n",
       "        text-align: right;\n",
       "    }\n",
       "</style>\n",
       "<table border=\"1\" class=\"dataframe\">\n",
       "  <thead>\n",
       "    <tr style=\"text-align: right;\">\n",
       "      <th></th>\n",
       "      <th>0</th>\n",
       "      <th>1</th>\n",
       "      <th>2</th>\n",
       "    </tr>\n",
       "  </thead>\n",
       "  <tbody>\n",
       "    <tr>\n",
       "      <th>model</th>\n",
       "      <td>knn_n_5</td>\n",
       "      <td>knn_n_10</td>\n",
       "      <td>knn_n_20</td>\n",
       "    </tr>\n",
       "    <tr>\n",
       "      <th>accuracy</th>\n",
       "      <td>0.818352</td>\n",
       "      <td>0.779026</td>\n",
       "      <td>0.741573</td>\n",
       "    </tr>\n",
       "    <tr>\n",
       "      <th>true_positive_rate</th>\n",
       "      <td>0.756098</td>\n",
       "      <td>0.629268</td>\n",
       "      <td>0.531707</td>\n",
       "    </tr>\n",
       "    <tr>\n",
       "      <th>false_positive_rate</th>\n",
       "      <td>0.142857</td>\n",
       "      <td>0.12766</td>\n",
       "      <td>0.12766</td>\n",
       "    </tr>\n",
       "    <tr>\n",
       "      <th>true_negative_rate</th>\n",
       "      <td>0.857143</td>\n",
       "      <td>0.87234</td>\n",
       "      <td>0.87234</td>\n",
       "    </tr>\n",
       "    <tr>\n",
       "      <th>false_negative_rate</th>\n",
       "      <td>0.243902</td>\n",
       "      <td>0.370732</td>\n",
       "      <td>0.468293</td>\n",
       "    </tr>\n",
       "    <tr>\n",
       "      <th>precision</th>\n",
       "      <td>0.767327</td>\n",
       "      <td>0.754386</td>\n",
       "      <td>0.721854</td>\n",
       "    </tr>\n",
       "    <tr>\n",
       "      <th>recall</th>\n",
       "      <td>0.756098</td>\n",
       "      <td>0.629268</td>\n",
       "      <td>0.531707</td>\n",
       "    </tr>\n",
       "    <tr>\n",
       "      <th>f1_score</th>\n",
       "      <td>0.761671</td>\n",
       "      <td>0.68617</td>\n",
       "      <td>0.61236</td>\n",
       "    </tr>\n",
       "    <tr>\n",
       "      <th>support_0</th>\n",
       "      <td>205</td>\n",
       "      <td>205</td>\n",
       "      <td>205</td>\n",
       "    </tr>\n",
       "    <tr>\n",
       "      <th>support_1</th>\n",
       "      <td>329</td>\n",
       "      <td>329</td>\n",
       "      <td>329</td>\n",
       "    </tr>\n",
       "  </tbody>\n",
       "</table>\n",
       "</div>"
      ],
      "text/plain": [
       "                            0         1         2\n",
       "model                 knn_n_5  knn_n_10  knn_n_20\n",
       "accuracy             0.818352  0.779026  0.741573\n",
       "true_positive_rate   0.756098  0.629268  0.531707\n",
       "false_positive_rate  0.142857   0.12766   0.12766\n",
       "true_negative_rate   0.857143   0.87234   0.87234\n",
       "false_negative_rate  0.243902  0.370732  0.468293\n",
       "precision            0.767327  0.754386  0.721854\n",
       "recall               0.756098  0.629268  0.531707\n",
       "f1_score             0.761671   0.68617   0.61236\n",
       "support_0                 205       205       205\n",
       "support_1                 329       329       329"
      ]
     },
     "execution_count": 62,
     "metadata": {},
     "output_type": "execute_result"
    }
   ],
   "source": [
    "pd.DataFrame(preds_dict).T"
   ]
  },
  {
   "cell_type": "code",
   "execution_count": 63,
   "id": "910ec613",
   "metadata": {},
   "outputs": [
    {
     "data": {
      "text/html": [
       "<div>\n",
       "<style scoped>\n",
       "    .dataframe tbody tr th:only-of-type {\n",
       "        vertical-align: middle;\n",
       "    }\n",
       "\n",
       "    .dataframe tbody tr th {\n",
       "        vertical-align: top;\n",
       "    }\n",
       "\n",
       "    .dataframe thead th {\n",
       "        text-align: right;\n",
       "    }\n",
       "</style>\n",
       "<table border=\"1\" class=\"dataframe\">\n",
       "  <thead>\n",
       "    <tr style=\"text-align: right;\">\n",
       "      <th>model</th>\n",
       "      <th>knn_n_5</th>\n",
       "      <th>knn_n_10</th>\n",
       "      <th>knn_n_20</th>\n",
       "    </tr>\n",
       "  </thead>\n",
       "  <tbody>\n",
       "    <tr>\n",
       "      <th>accuracy</th>\n",
       "      <td>0.818352</td>\n",
       "      <td>0.779026</td>\n",
       "      <td>0.741573</td>\n",
       "    </tr>\n",
       "    <tr>\n",
       "      <th>true_positive_rate</th>\n",
       "      <td>0.756098</td>\n",
       "      <td>0.629268</td>\n",
       "      <td>0.531707</td>\n",
       "    </tr>\n",
       "    <tr>\n",
       "      <th>false_positive_rate</th>\n",
       "      <td>0.142857</td>\n",
       "      <td>0.12766</td>\n",
       "      <td>0.12766</td>\n",
       "    </tr>\n",
       "    <tr>\n",
       "      <th>true_negative_rate</th>\n",
       "      <td>0.857143</td>\n",
       "      <td>0.87234</td>\n",
       "      <td>0.87234</td>\n",
       "    </tr>\n",
       "    <tr>\n",
       "      <th>false_negative_rate</th>\n",
       "      <td>0.243902</td>\n",
       "      <td>0.370732</td>\n",
       "      <td>0.468293</td>\n",
       "    </tr>\n",
       "    <tr>\n",
       "      <th>precision</th>\n",
       "      <td>0.767327</td>\n",
       "      <td>0.754386</td>\n",
       "      <td>0.721854</td>\n",
       "    </tr>\n",
       "    <tr>\n",
       "      <th>recall</th>\n",
       "      <td>0.756098</td>\n",
       "      <td>0.629268</td>\n",
       "      <td>0.531707</td>\n",
       "    </tr>\n",
       "    <tr>\n",
       "      <th>f1_score</th>\n",
       "      <td>0.761671</td>\n",
       "      <td>0.68617</td>\n",
       "      <td>0.61236</td>\n",
       "    </tr>\n",
       "    <tr>\n",
       "      <th>support_0</th>\n",
       "      <td>205</td>\n",
       "      <td>205</td>\n",
       "      <td>205</td>\n",
       "    </tr>\n",
       "    <tr>\n",
       "      <th>support_1</th>\n",
       "      <td>329</td>\n",
       "      <td>329</td>\n",
       "      <td>329</td>\n",
       "    </tr>\n",
       "  </tbody>\n",
       "</table>\n",
       "</div>"
      ],
      "text/plain": [
       "model                 knn_n_5  knn_n_10  knn_n_20\n",
       "accuracy             0.818352  0.779026  0.741573\n",
       "true_positive_rate   0.756098  0.629268  0.531707\n",
       "false_positive_rate  0.142857   0.12766   0.12766\n",
       "true_negative_rate   0.857143   0.87234   0.87234\n",
       "false_negative_rate  0.243902  0.370732  0.468293\n",
       "precision            0.767327  0.754386  0.721854\n",
       "recall               0.756098  0.629268  0.531707\n",
       "f1_score             0.761671   0.68617   0.61236\n",
       "support_0                 205       205       205\n",
       "support_1                 329       329       329"
      ]
     },
     "execution_count": 63,
     "metadata": {},
     "output_type": "execute_result"
    }
   ],
   "source": [
    "train_preds_df = pd.DataFrame(preds_dict).T\n",
    "train_preds_df.columns = train_preds_df.iloc[0]\n",
    "train_preds_df = train_preds_df.drop(train_preds_df.index[0])\n",
    "train_preds_df"
   ]
  },
  {
   "cell_type": "markdown",
   "id": "cd232fd6",
   "metadata": {},
   "source": [
    "### 7. Which model performs best on our out-of-sample data from validate?"
   ]
  },
  {
   "cell_type": "code",
   "execution_count": 64,
   "id": "4d7a7447",
   "metadata": {},
   "outputs": [],
   "source": [
    "preds_dict = {'model': [],\n",
    "             'accuracy': [],\n",
    "             'true_positive_rate': [],\n",
    "             'false_positive_rate': [],\n",
    "             'true_negative_rate': [],\n",
    "             'false_negative_rate': [],\n",
    "             'precision': [],\n",
    "             'recall': [],\n",
    "             'f1_score': [],\n",
    "             'support_0': [],\n",
    "             'support_1': []}\n",
    "\n",
    "for n in [5, 10, 20]:\n",
    "    knn = KNeighborsClassifier(n_neighbors = n)\n",
    "    \n",
    "    knn.fit(X_train, y_train)\n",
    "    \n",
    "    y_preds = knn.predict(X_validate)\n",
    "    \n",
    "    TN, FP, FN, TP = confusion_matrix(y_validate, y_preds).ravel()\n",
    "    ALL = TP + TN + FP + FN\n",
    "    \n",
    "    accuracy = (TP + TN)/ALL\n",
    "    true_positive_rate = TP/(TP+FN)\n",
    "    false_positive_rate = FP/(FP+TN)\n",
    "    true_negative_rate = TN/(TN+FP)\n",
    "    false_negative_rate = FN/(FN+TP)\n",
    "    precision = TP/(TP+FP)\n",
    "    recall = TP/(TP+FN)\n",
    "    f1_score = 2*(precision*recall)/(precision+recall)\n",
    "    support_pos = TP + FN\n",
    "    support_neg = FP + TN\n",
    "    \n",
    "    preds_dict['model'].append(f'knn_n_{n}')\n",
    "    preds_dict['accuracy'].append(accuracy)\n",
    "    preds_dict['true_positive_rate'].append(true_positive_rate)\n",
    "    preds_dict['false_positive_rate'].append(false_positive_rate)\n",
    "    preds_dict['true_negative_rate'].append(true_negative_rate)\n",
    "    preds_dict['false_negative_rate'].append(false_negative_rate)\n",
    "    preds_dict['precision'].append(precision)\n",
    "    preds_dict['recall'].append(recall)\n",
    "    preds_dict['f1_score'].append(f1_score)\n",
    "    preds_dict['support_0'].append(support_pos)\n",
    "    preds_dict['support_1'].append(support_neg)"
   ]
  },
  {
   "cell_type": "code",
   "execution_count": 65,
   "id": "f926f24f",
   "metadata": {},
   "outputs": [
    {
     "data": {
      "text/html": [
       "<div>\n",
       "<style scoped>\n",
       "    .dataframe tbody tr th:only-of-type {\n",
       "        vertical-align: middle;\n",
       "    }\n",
       "\n",
       "    .dataframe tbody tr th {\n",
       "        vertical-align: top;\n",
       "    }\n",
       "\n",
       "    .dataframe thead th {\n",
       "        text-align: right;\n",
       "    }\n",
       "</style>\n",
       "<table border=\"1\" class=\"dataframe\">\n",
       "  <thead>\n",
       "    <tr style=\"text-align: right;\">\n",
       "      <th>model</th>\n",
       "      <th>knn_n_5</th>\n",
       "      <th>knn_n_10</th>\n",
       "      <th>knn_n_20</th>\n",
       "    </tr>\n",
       "  </thead>\n",
       "  <tbody>\n",
       "    <tr>\n",
       "      <th>accuracy</th>\n",
       "      <td>0.730337</td>\n",
       "      <td>0.713483</td>\n",
       "      <td>0.657303</td>\n",
       "    </tr>\n",
       "    <tr>\n",
       "      <th>true_positive_rate</th>\n",
       "      <td>0.661765</td>\n",
       "      <td>0.544118</td>\n",
       "      <td>0.441176</td>\n",
       "    </tr>\n",
       "    <tr>\n",
       "      <th>false_positive_rate</th>\n",
       "      <td>0.227273</td>\n",
       "      <td>0.181818</td>\n",
       "      <td>0.209091</td>\n",
       "    </tr>\n",
       "    <tr>\n",
       "      <th>true_negative_rate</th>\n",
       "      <td>0.772727</td>\n",
       "      <td>0.818182</td>\n",
       "      <td>0.790909</td>\n",
       "    </tr>\n",
       "    <tr>\n",
       "      <th>false_negative_rate</th>\n",
       "      <td>0.338235</td>\n",
       "      <td>0.455882</td>\n",
       "      <td>0.558824</td>\n",
       "    </tr>\n",
       "    <tr>\n",
       "      <th>precision</th>\n",
       "      <td>0.642857</td>\n",
       "      <td>0.649123</td>\n",
       "      <td>0.566038</td>\n",
       "    </tr>\n",
       "    <tr>\n",
       "      <th>recall</th>\n",
       "      <td>0.661765</td>\n",
       "      <td>0.544118</td>\n",
       "      <td>0.441176</td>\n",
       "    </tr>\n",
       "    <tr>\n",
       "      <th>f1_score</th>\n",
       "      <td>0.652174</td>\n",
       "      <td>0.592</td>\n",
       "      <td>0.495868</td>\n",
       "    </tr>\n",
       "    <tr>\n",
       "      <th>support_0</th>\n",
       "      <td>68</td>\n",
       "      <td>68</td>\n",
       "      <td>68</td>\n",
       "    </tr>\n",
       "    <tr>\n",
       "      <th>support_1</th>\n",
       "      <td>110</td>\n",
       "      <td>110</td>\n",
       "      <td>110</td>\n",
       "    </tr>\n",
       "  </tbody>\n",
       "</table>\n",
       "</div>"
      ],
      "text/plain": [
       "model                 knn_n_5  knn_n_10  knn_n_20\n",
       "accuracy             0.730337  0.713483  0.657303\n",
       "true_positive_rate   0.661765  0.544118  0.441176\n",
       "false_positive_rate  0.227273  0.181818  0.209091\n",
       "true_negative_rate   0.772727  0.818182  0.790909\n",
       "false_negative_rate  0.338235  0.455882  0.558824\n",
       "precision            0.642857  0.649123  0.566038\n",
       "recall               0.661765  0.544118  0.441176\n",
       "f1_score             0.652174     0.592  0.495868\n",
       "support_0                  68        68        68\n",
       "support_1                 110       110       110"
      ]
     },
     "execution_count": 65,
     "metadata": {},
     "output_type": "execute_result"
    }
   ],
   "source": [
    "val_preds_df = pd.DataFrame(preds_dict).T\n",
    "val_preds_df.columns = val_preds_df.iloc[0]\n",
    "val_preds_df = val_preds_df.drop(val_preds_df.index[0])\n",
    "val_preds_df"
   ]
  },
  {
   "cell_type": "code",
   "execution_count": 66,
   "id": "d62491b3",
   "metadata": {},
   "outputs": [
    {
     "data": {
      "text/plain": [
       "survived\n",
       "0           0.616105\n",
       "1           0.383895\n",
       "dtype: float64"
      ]
     },
     "execution_count": 66,
     "metadata": {},
     "output_type": "execute_result"
    }
   ],
   "source": [
    "# Get percentage of True/False for Target Feature\n",
    "y_train.value_counts(normalize=True)"
   ]
  },
  {
   "cell_type": "markdown",
   "id": "98a81da9",
   "metadata": {},
   "source": [
    "### Once you have completed work on the titanic dataset, try building some knn models with your telco data."
   ]
  },
  {
   "cell_type": "code",
   "execution_count": null,
   "id": "15f03264",
   "metadata": {},
   "outputs": [],
   "source": []
  },
  {
   "cell_type": "markdown",
   "id": "0e02f7f7",
   "metadata": {},
   "source": [
    "<div class=\"alert alert-block alert-warning\">\n",
    "Planning - Acquisition - Preparation - Exploratory Analysis - <font color='red'><b>Modeling</b></font> - Product Delivery\n",
    "</div>"
   ]
  },
  {
   "cell_type": "markdown",
   "id": "37c2b98d",
   "metadata": {},
   "source": [
    "# Logistic Regression Exercises\n",
    "In these exercises, we'll continue working with the titanic dataset and building logistic regression models. Throughout this exercise, be sure you are training, evaluation, and comparing models on the train and validate datasets. The test dataset should only be used for your final model.\n",
    "\n",
    "For all of the models you create, choose a threshold that optimizes for accuracy.\n",
    "\n",
    "Do your work for these exercises in either a notebook or a python script named ```model``` within your ```classification-exercises``` repository. ```Add```, ```commit```, and ```push``` your work."
   ]
  },
  {
   "cell_type": "markdown",
   "id": "8d7d9f79",
   "metadata": {},
   "source": [
    "### 1. Create a model that includes age in addition to fare and pclass. Does this model perform better than your baseline?"
   ]
  },
  {
   "cell_type": "markdown",
   "id": "be79fc55",
   "metadata": {},
   "source": [
    "### 2. Include sex in your model as well. Note that you'll need to encode or create a dummy variable of this feature before including it in a model."
   ]
  },
  {
   "cell_type": "markdown",
   "id": "e55e02cb",
   "metadata": {},
   "source": [
    "### 3. Try out other combinations of features and models."
   ]
  },
  {
   "cell_type": "markdown",
   "id": "3126f1bd",
   "metadata": {},
   "source": [
    "### 4. Use you best 3 models to predict and evaluate on your validate sample."
   ]
  },
  {
   "cell_type": "markdown",
   "id": "f64a5a68",
   "metadata": {},
   "source": [
    "### 5. Choose you best model from the validation performation, and evaluate it on the test dataset. How do the performance metrics compare to validate? to train?"
   ]
  },
  {
   "cell_type": "markdown",
   "id": "59292b7f",
   "metadata": {},
   "source": [
    "## Bonus1: \n",
    "How do different strategies for handling the missing values in the age column affect model performance?"
   ]
  },
  {
   "cell_type": "markdown",
   "id": "3f202ecf",
   "metadata": {},
   "source": [
    "## Bonus2: \n",
    "How do different strategies for encoding sex affect model performance?"
   ]
  },
  {
   "cell_type": "markdown",
   "id": "2fa3cb0f",
   "metadata": {},
   "source": [
    "## Bonus3: \n",
    "```scikit-learn```'s ```LogisticRegression``` classifier is actually applying a regularization penalty to the coefficients (https://en.wikipedia.org/wiki/Regularized_least_squares) by default. This penalty causes the magnitude of the coefficients in the resulting model to be smaller than they otherwise would be. This value can be modified with the ```C``` hyper parameter. Small values of ```C``` correspond to a larger penalty, and large values of ```C``` correspond to a smaller penalty.\n",
    "Try out the following values for ```C``` and note how the coefficients and the model's performance on both the dataset it was trained on and on the validate split are affected.\n",
    "```\n",
    "C = .01,.1,1,10,100,1000\n",
    "```"
   ]
  },
  {
   "cell_type": "markdown",
   "id": "0a3cb2b0",
   "metadata": {},
   "source": [
    "## Bonus Bonus: \n",
    "how does scaling the data interact with your choice of ```C```?"
   ]
  },
  {
   "cell_type": "markdown",
   "id": "7b38dab8",
   "metadata": {},
   "source": []
  },
  {
   "cell_type": "markdown",
   "id": "776df5e6",
   "metadata": {},
   "source": []
  },
  {
   "cell_type": "markdown",
   "id": "3289f588",
   "metadata": {},
   "source": []
  },
  {
   "cell_type": "markdown",
   "id": "37cf8b62",
   "metadata": {},
   "source": []
  },
  {
   "cell_type": "markdown",
   "id": "96a65090",
   "metadata": {},
   "source": []
  },
  {
   "cell_type": "markdown",
   "id": "e6548bb9",
   "metadata": {},
   "source": []
  },
  {
   "cell_type": "markdown",
   "id": "d885fb2c",
   "metadata": {},
   "source": []
  }
 ],
 "metadata": {
  "kernelspec": {
   "display_name": "Python 3 (ipykernel)",
   "language": "python",
   "name": "python3"
  },
  "language_info": {
   "codemirror_mode": {
    "name": "ipython",
    "version": 3
   },
   "file_extension": ".py",
   "mimetype": "text/x-python",
   "name": "python",
   "nbconvert_exporter": "python",
   "pygments_lexer": "ipython3",
   "version": "3.9.12"
  }
 },
 "nbformat": 4,
 "nbformat_minor": 5
}
