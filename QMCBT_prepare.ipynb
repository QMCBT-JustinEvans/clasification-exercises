{
 "cells": [
  {
   "cell_type": "code",
   "execution_count": 1,
   "id": "b979e24c",
   "metadata": {},
   "outputs": [],
   "source": [
    "import pandas as pd\n",
    "import numpy as np"
   ]
  },
  {
   "cell_type": "code",
   "execution_count": 2,
   "id": "8ff530b2",
   "metadata": {},
   "outputs": [],
   "source": [
    "def prep_iris_df(iris_df):\n",
    "    iris_df = iris_df.drop(columns='species_id')\n",
    "    iris_df = iris_df.rename(columns={'species_name': 'species'})\n",
    "    dummy_iris_df = pd.get_dummies(iris_df.species, drop_first=True)\n",
    "    iris_df = pd.concat([iris_df, dummy_iris_df], axis=1)\n",
    "    return iris_df"
   ]
  },
  {
   "cell_type": "code",
   "execution_count": null,
   "id": "be839eba",
   "metadata": {},
   "outputs": [],
   "source": [
    "def prep_titanic_df(titanic_df):\n",
    "    titanic_df = titanic_df.drop(columns=['passenger_id', 'class', 'deck'])\n",
    "    dummy_df = pd.get_dummies(data=titanic_df['sex'], drop_first=True)\n",
    "    dummy_df2 = pd.get_dummies(data=titanic_df['embark_town'], drop_first=False)\n",
    "    titanic_df = pd.concat([titanic_df, dummy_df, dummy_df2], axis=1)\n",
    "    return titanic_df"
   ]
  },
  {
   "cell_type": "code",
   "execution_count": null,
   "id": "fa756eba",
   "metadata": {},
   "outputs": [],
   "source": [
    "def prep_telco_churn_df(telco_churn_df):\n",
    "    telco_churn_df = telco_churn_df.drop(columns=['payment_type_id', 'contract_type_id', \n",
    "                                              'internet_service_type_id', 'customer_id'])\n",
    "    encoded_df = pd.DataFrame()\n",
    "    encoded_df['male_encoded'] = telco_churn_df.gender.map({'Male': 1, 'Female': 0})\n",
    "    encoded_df['partner_encoded'] = telco_churn_df.partner.map({'Yes': 1, 'No': 0})\n",
    "    encoded_df['dependents_encoded'] = telco_churn_df.dependents.map({'Yes': 1, 'No': 0})\n",
    "    encoded_df['phone_service_encoded'] = telco_churn_df.phone_service.map({'Yes': 1, 'No': 0})\n",
    "    encoded_df['multiple_lines_encoded'] = telco_churn_df.phone_service.map({'Yes': 1, 'No': 0})\n",
    "    encoded_df['online_security_encoded'] = telco_churn_df.phone_service.map({'Yes': 1, 'No': 0})\n",
    "    encoded_df['online_backup_encoded'] = telco_churn_df.phone_service.map({'Yes': 1, 'No': 0})\n",
    "    encoded_df['device_protection_encoded'] = telco_churn_df.phone_service.map({'Yes': 1, 'No': 0})\n",
    "    encoded_df['streaming_tv_encoded'] = telco_churn_df.phone_service.map({'Yes': 1, 'No': 0})\n",
    "    encoded_df['streaming_movies_encoded'] = telco_churn_df.phone_service.map({'Yes': 1, 'No': 0})\n",
    "    encoded_df['paperless_billing_encoded'] = telco_churn_df.paperless_billing.map({'Yes': 1, 'No': 0})\n",
    "    encoded_df['churn_encoded'] = telco_churn_df.churn.map({'Yes': 1, 'No': 0})\n",
    "    encoded_df['tech_support_encoded'] = telco_churn_df.churn.map({'Yes': 1, 'No': 0})\n",
    "    encoded_cols = encoded_df.columns\n",
    "\n",
    "    dummy_df = pd.get_dummies(data=telco_churn_df[['internet_service_type', \n",
    "                                                   'contract_type', \n",
    "                                                   'payment_type'\n",
    "                                                  ]], drop_first=False)\n",
    "    \n",
    "    telco_churn_df = pd.concat([telco_churn_df, encoded_df, dummy_df], axis=1)\n",
    "    \n",
    "    drop_cols = ['gender', 'partner', 'dependents', 'phone_service', 'multiple_lines', \n",
    "             'online_security', 'online_backup', 'device_protection', 'streaming_tv', \n",
    "             'streaming_movies', 'paperless_billing', 'churn', 'internet_service_type', \n",
    "             'contract_type', 'payment_type', 'tech_support']\n",
    "    \n",
    "    telco_churn_df = telco_churn_df.drop(columns = drop_cols)\n",
    "    \n",
    "    return telco_churn_df.T"
   ]
  }
 ],
 "metadata": {
  "kernelspec": {
   "display_name": "Python 3 (ipykernel)",
   "language": "python",
   "name": "python3"
  },
  "language_info": {
   "codemirror_mode": {
    "name": "ipython",
    "version": 3
   },
   "file_extension": ".py",
   "mimetype": "text/x-python",
   "name": "python",
   "nbconvert_exporter": "python",
   "pygments_lexer": "ipython3",
   "version": "3.9.12"
  }
 },
 "nbformat": 4,
 "nbformat_minor": 5
}
