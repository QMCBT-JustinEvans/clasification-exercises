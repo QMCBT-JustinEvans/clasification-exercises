{
 "cells": [
  {
   "cell_type": "code",
   "execution_count": 34,
   "id": "edbbb123",
   "metadata": {},
   "outputs": [
    {
     "name": "stdout",
     "output_type": "stream",
     "text": [
      "**CUSTOM EXPLORATION FUNCTIONS\n",
      "nunique_column_all(df): PRINT NUNIQUE OF ALL COLUMNS\n",
      "nunique_column_objects(df): PRINT NUNIQUE OF COLUMNS THAT ARE OBJECTS\n",
      "nunique_column_qty(df): PRINT NUNIQUE OF COLUMNS THAT ARE *NOT* OBJECTS\n",
      "numeric_range(df): COMPUTE RANGE FOR ALL NUMERIC VARIABLES\n",
      "\n",
      "**USEFUL EXPLORATORY CODE**\n",
      "DFNAME.head()\n",
      "DFNAME.shape\n",
      "DFNAME.shape[0] #read row count\n",
      "DFNAME.describe().T\n",
      "DFNAME.columns.to_list()\n",
      "DFNAME.COLUMNNAME.value_counts(dropna=False)\n",
      "DFNAME.dtypes\n",
      "DFNAME.select_dtypes(include='object').columns\n",
      "DFNAME.select_dtypes(include='float').columns\n",
      "pd.crosstab(DFNAME.COLUMN-1, DFNAME.COLUMN-2)\n"
     ]
    }
   ],
   "source": [
    "print(\"**CUSTOM EXPLORATION FUNCTIONS\")\n",
    "print(\"nunique_column_all(df): PRINT NUNIQUE OF ALL COLUMNS\")\n",
    "print(\"nunique_column_objects(df): PRINT NUNIQUE OF COLUMNS THAT ARE OBJECTS\")\n",
    "print(\"nunique_column_qty(df): PRINT NUNIQUE OF COLUMNS THAT ARE *NOT* OBJECTS\")\n",
    "print(\"numeric_range(df): COMPUTE RANGE FOR ALL NUMERIC VARIABLES\")\n",
    "print(\"\")\n",
    "print(\"**USEFUL EXPLORATORY CODE**\")\n",
    "print (\"DFNAME.head()\")\n",
    "print (\"DFNAME.shape\")\n",
    "print (\"DFNAME.shape[0] #read row count\")\n",
    "print (\"DFNAME.describe().T\")\n",
    "print (\"DFNAME.columns.to_list()\")\n",
    "print(\"DFNAME.COLUMNNAME.value_counts(dropna=False)\")\n",
    "print (\"DFNAME.dtypes\")\n",
    "print(\"DFNAME.select_dtypes(include='object').columns\")\n",
    "print(\"DFNAME.select_dtypes(include='float').columns\")\n",
    "print(\"pd.crosstab(DFNAME.COLUMN-1, DFNAME.COLUMN-2)\")"
   ]
  },
  {
   "cell_type": "code",
   "execution_count": null,
   "id": "7d058103",
   "metadata": {},
   "outputs": [],
   "source": [
    "# PRINT NUNIQUE OF ALL COLUMNS\n",
    "\n",
    "def nunique_column_all(df):\n",
    "    for col in df.columns:\n",
    "        print(df[col].value_counts())\n",
    "        print()"
   ]
  },
  {
   "cell_type": "code",
   "execution_count": 4,
   "id": "c0c036dd",
   "metadata": {},
   "outputs": [],
   "source": [
    "# PRINT NUNIQUE OF COLUMNS THAT ARE OBJECTS\n",
    "\n",
    "def nunique_column_objects(df): \n",
    "    for col in df.columns:\n",
    "        if df[col].dtypes == 'object':\n",
    "            print(f'{col} has {df[col].nunique()} unique values.')"
   ]
  },
  {
   "cell_type": "code",
   "execution_count": 5,
   "id": "d84c8911",
   "metadata": {},
   "outputs": [],
   "source": [
    "# PRINT NUNIQUE OF COLUMNS THAT ARE *NOT* OBJECTS\n",
    "\n",
    "def nunique_column_qty(df): \n",
    "    for col in df.columns:\n",
    "        if df[col].dtypes != 'object':\n",
    "            print(f'{col} has {df[col].nunique()} unique values.')"
   ]
  },
  {
   "cell_type": "code",
   "execution_count": null,
   "id": "ad03a889",
   "metadata": {},
   "outputs": [],
   "source": [
    "# **COMPUTE RANGE FOR ALL NUMERIC VARIABLES**\n",
    "\n",
    "def numeric_range(df):\n",
    "    numeric_list = df.select_dtypes(include = 'float').columns.tolist()\n",
    "    numeric_range = df[numeric_list].describe().T\n",
    "    numeric_range['range'] = numeric_range['max'] - numeric_range['min']\n",
    "    return numeric_range"
   ]
  },
  {
   "cell_type": "code",
   "execution_count": null,
   "id": "ff76430e",
   "metadata": {},
   "outputs": [],
   "source": [
    "# "
   ]
  }
 ],
 "metadata": {
  "kernelspec": {
   "display_name": "Python 3 (ipykernel)",
   "language": "python",
   "name": "python3"
  },
  "language_info": {
   "codemirror_mode": {
    "name": "ipython",
    "version": 3
   },
   "file_extension": ".py",
   "mimetype": "text/x-python",
   "name": "python",
   "nbconvert_exporter": "python",
   "pygments_lexer": "ipython3",
   "version": "3.9.12"
  }
 },
 "nbformat": 4,
 "nbformat_minor": 5
}
