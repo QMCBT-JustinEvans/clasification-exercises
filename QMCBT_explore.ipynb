{
 "cells": [
  {
   "cell_type": "code",
   "execution_count": 34,
   "id": "edbbb123",
   "metadata": {},
   "outputs": [
    {
     "name": "stdout",
     "output_type": "stream",
     "text": [
      "**CUSTOM EXPLORATION FUNCTIONS\n",
      "nunique_column_all(df): PRINT NUNIQUE OF ALL COLUMNS\n",
      "nunique_column_objects(df): PRINT NUNIQUE OF COLUMNS THAT ARE OBJECTS\n",
      "nunique_column_qty(df): PRINT NUNIQUE OF COLUMNS THAT ARE *NOT* OBJECTS\n",
      "numeric_range(df): COMPUTE RANGE FOR ALL NUMERIC VARIABLES\n",
      "\n",
      "**USEFUL EXPLORATORY CODE**\n",
      "DFNAME.head()\n",
      "DFNAME.shape\n",
      "DFNAME.shape[0] #read row count\n",
      "DFNAME.describe().T\n",
      "DFNAME.columns.to_list()\n",
      "DFNAME.COLUMNNAME.value_counts(dropna=False)\n",
      "DFNAME.dtypes\n",
      "DFNAME.select_dtypes(include='object').columns\n",
      "DFNAME.select_dtypes(include='float').columns\n",
      "pd.crosstab(DFNAME.COLUMN-1, DFNAME.COLUMN-2)\n"
     ]
    }
   ],
   "source": [
    "print(\"**CUSTOM EXPLORATION FUNCTIONS\")\n",
    "print(\"nunique_column_all(df): PRINT NUNIQUE OF ALL COLUMNS\")\n",
    "print(\"nunique_column_objects(df): PRINT NUNIQUE OF COLUMNS THAT ARE OBJECTS\")\n",
    "print(\"nunique_column_qty(df): PRINT NUNIQUE OF COLUMNS THAT ARE *NOT* OBJECTS\")\n",
    "print(\"numeric_range(df): COMPUTE RANGE FOR ALL NUMERIC VARIABLES\")\n",
    "print(\"\")\n",
    "print(\"**USEFUL EXPLORATORY CODE**\")\n",
    "print (\"DFNAME.head()\")\n",
    "print (\"DFNAME.shape\")\n",
    "print (\"DFNAME.shape[0] #read row count\")\n",
    "print (\"DFNAME.describe().T\")\n",
    "print (\"DFNAME.columns.to_list()\")\n",
    "print(\"DFNAME.COLUMNNAME.value_counts(dropna=False)\")\n",
    "print (\"DFNAME.dtypes\")\n",
    "print(\"DFNAME.select_dtypes(include='object').columns\")\n",
    "print(\"DFNAME.select_dtypes(include='float').columns\")\n",
    "print(\"pd.crosstab(DFNAME.COLUMN-1, DFNAME.COLUMN-2)\")"
   ]
  },
  {
   "cell_type": "code",
   "execution_count": null,
   "id": "7d058103",
   "metadata": {},
   "outputs": [],
   "source": [
    "# PRINT NUNIQUE OF ALL COLUMNS\n",
    "\n",
    "def nunique_column_all(df):\n",
    "    for col in df.columns:\n",
    "        print(df[col].value_counts())\n",
    "        print()"
   ]
  },
  {
   "cell_type": "code",
   "execution_count": 4,
   "id": "c0c036dd",
   "metadata": {},
   "outputs": [],
   "source": [
    "# PRINT NUNIQUE OF COLUMNS THAT ARE OBJECTS\n",
    "\n",
    "def nunique_column_objects(df): \n",
    "    for col in df.columns:\n",
    "        if df[col].dtypes == 'object':\n",
    "            print(f'{col} has {df[col].nunique()} unique values.')"
   ]
  },
  {
   "cell_type": "code",
   "execution_count": 5,
   "id": "d84c8911",
   "metadata": {},
   "outputs": [],
   "source": [
    "# PRINT NUNIQUE OF COLUMNS THAT ARE *NOT* OBJECTS\n",
    "\n",
    "def nunique_column_qty(df): \n",
    "    for col in df.columns:\n",
    "        if df[col].dtypes != 'object':\n",
    "            print(f'{col} has {df[col].nunique()} unique values.')"
   ]
  },
  {
   "cell_type": "code",
   "execution_count": null,
   "id": "ad03a889",
   "metadata": {},
   "outputs": [],
   "source": [
    "# **COMPUTE RANGE FOR ALL NUMERIC VARIABLES**\n",
    "\n",
    "def numeric_range(df):\n",
    "    numeric_list = df.select_dtypes(include = 'float').columns.tolist()\n",
    "    numeric_range = df[numeric_list].describe().T\n",
    "    numeric_range['range'] = numeric_range['max'] - numeric_range['min']\n",
    "    return numeric_range"
   ]
  },
  {
   "cell_type": "code",
   "execution_count": null,
   "id": "24bfa3f0",
   "metadata": {},
   "outputs": [],
   "source": [
    "# BUILD A FUNCTION THAT DOES THIS FOR ALL \"FLOAT\" COLUMNS\n",
    "\n",
    "# float_cols = train_iris.select_dtypes(include='float').columns\n",
    "\n",
    "# Plot numeric columns\n",
    "#plot_float_cols = float_cols \n",
    "#for col in plot_float_cols:\n",
    "#    plt.hist(train_iris[col])\n",
    "#    plt.title(col)\n",
    "#    plt.show()\n",
    "#    plt.boxplot(train_iris[col])\n",
    "#    plt.title(col)\n",
    "#    plt.show()"
   ]
  },
  {
   "cell_type": "code",
   "execution_count": null,
   "id": "221397ba",
   "metadata": {},
   "outputs": [],
   "source": [
    "# BUILD A FUNCTION THAT DOES THIS FOR ALL \"OBJECT\" COLUMNS\n",
    "\n",
    "# train.species.value_counts()\n",
    "# plt.hist(train_iris.species_name)"
   ]
  },
  {
   "cell_type": "code",
   "execution_count": null,
   "id": "c3b676b2",
   "metadata": {},
   "outputs": [],
   "source": [
    "# BUILD A FUNCTION THAT DOES THIS\n",
    "\n",
    "#test_var = ['sepal_length', 'sepal_width', 'petal_length', 'petal_width']\n",
    "#for var in test_var:\n",
    "#    t_stat, p_val = t_stat, p_val = stats.mannwhitneyu(virginica[var], versicolor[var], alternative=\"two-sided\")\n",
    "#    print(f'Comparing {var} between Virginica and Versicolor')\n",
    "#    print(t_stat, p_val)\n",
    "#    print('')\n",
    "#    print('---------------------------------------------------------------------')\n",
    "#    print('')"
   ]
  },
  {
   "cell_type": "code",
   "execution_count": null,
   "id": "61fe7793",
   "metadata": {},
   "outputs": [],
   "source": [
    "# sns.pairplot(DF, hue='TARGET_COLUMN', corner=True)\n",
    "# plt.show()"
   ]
  },
  {
   "cell_type": "code",
   "execution_count": null,
   "id": "e89a04e7",
   "metadata": {},
   "outputs": [],
   "source": [
    "# BUILD A FUNCTION; This will list out Accuracies for each model\n",
    "\n",
    "# accuracy_dictionary = {'Baseline': (petpics_df.actual == petpics_df.baseline).mean(), \n",
    "#                   'Model_1 accuracy': (petpics_df.actual == petpics_df.model1).mean(),\n",
    "#                   'Model_2 accuracy': (petpics_df.actual == petpics_df.model2).mean(),\n",
    "#                   'Model_3 accuracy': (petpics_df.actual == petpics_df.model3).mean(),\n",
    "#                   'Model_4 accuracy': (petpics_df.actual == petpics_df.model4).mean()}\n",
    "# accuracy_dictionary"
   ]
  },
  {
   "cell_type": "markdown",
   "id": "00901deb",
   "metadata": {},
   "source": [
    "```\n",
    "{'Baseline': 0.6508,\n",
    " 'Model_1 accuracy': 0.8074,\n",
    " 'Model_2 accuracy': 0.6304,\n",
    " 'Model_3 accuracy': 0.5096,\n",
    " 'Model_4 accuracy': 0.7426}\n",
    " ```"
   ]
  },
  {
   "cell_type": "code",
   "execution_count": null,
   "id": "08988631",
   "metadata": {},
   "outputs": [],
   "source": []
  }
 ],
 "metadata": {
  "kernelspec": {
   "display_name": "Python 3 (ipykernel)",
   "language": "python",
   "name": "python3"
  },
  "language_info": {
   "codemirror_mode": {
    "name": "ipython",
    "version": 3
   },
   "file_extension": ".py",
   "mimetype": "text/x-python",
   "name": "python",
   "nbconvert_exporter": "python",
   "pygments_lexer": "ipython3",
   "version": "3.9.12"
  }
 },
 "nbformat": 4,
 "nbformat_minor": 5
}
